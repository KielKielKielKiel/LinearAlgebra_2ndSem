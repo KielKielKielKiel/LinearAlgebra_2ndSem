{
  "nbformat": 4,
  "nbformat_minor": 0,
  "metadata": {
    "colab": {
      "name": "Assignment5.ipynb",
      "provenance": [],
      "authorship_tag": "ABX9TyNdcQVmGu9mxDgQCwEu5fP8",
      "include_colab_link": true
    },
    "kernelspec": {
      "name": "python3",
      "display_name": "Python 3"
    },
    "language_info": {
      "name": "python"
    }
  },
  "cells": [
    {
      "cell_type": "markdown",
      "metadata": {
        "id": "view-in-github",
        "colab_type": "text"
      },
      "source": [
        "<a href=\"https://colab.research.google.com/github/KielKielKielKiel/LinearAlgebra_2ndSem/blob/main/Assignment5.ipynb\" target=\"_parent\"><img src=\"https://colab.research.google.com/assets/colab-badge.svg\" alt=\"Open In Colab\"/></a>"
      ]
    },
    {
      "cell_type": "markdown",
      "source": [
        "##Laboratory 6: Matrix Operaions"
      ],
      "metadata": {
        "id": "UhP8oobo8ZBu"
      }
    },
    {
      "cell_type": "markdown",
      "source": [
        "## Discussion"
      ],
      "metadata": {
        "id": "uKvvzONO8nTw"
      }
    },
    {
      "cell_type": "code",
      "execution_count": null,
      "metadata": {
        "id": "wxp07cVU8YJ5"
      },
      "outputs": [],
      "source": [
        "import numpy as np\n",
        "import matplotlib.pyplot as plt\n",
        "%matplotlib inline"
      ]
    },
    {
      "cell_type": "markdown",
      "source": [
        "## Transposition"
      ],
      "metadata": {
        "id": "UtuOmnPE805D"
      }
    },
    {
      "cell_type": "markdown",
      "source": [
        "using np.transpose ()"
      ],
      "metadata": {
        "id": "t8fYqE9t9EYf"
      }
    },
    {
      "cell_type": "code",
      "source": [
        "A = np.array ([\n",
        "     [1, 2, 3],\n",
        "     [500, -1, 2],\n",
        "     [2, 6, 1]\n",
        "])\n",
        "A"
      ],
      "metadata": {
        "colab": {
          "base_uri": "https://localhost:8080/"
        },
        "id": "m1gZt1ux9oVN",
        "outputId": "f30c0fb9-efbf-48c3-f504-0da2c0c33e63"
      },
      "execution_count": null,
      "outputs": [
        {
          "output_type": "execute_result",
          "data": {
            "text/plain": [
              "array([[  1,   2,   3],\n",
              "       [500,  -1,   2],\n",
              "       [  2,   6,   1]])"
            ]
          },
          "metadata": {},
          "execution_count": 8
        }
      ]
    },
    {
      "cell_type": "code",
      "source": [
        "Atran = np.transpose(A)\n",
        "Atran"
      ],
      "metadata": {
        "colab": {
          "base_uri": "https://localhost:8080/"
        },
        "id": "ClOT-o7P94K4",
        "outputId": "873515cf-075a-4e03-e65b-0692a5060ce5"
      },
      "execution_count": null,
      "outputs": [
        {
          "output_type": "execute_result",
          "data": {
            "text/plain": [
              "array([[  1, 500,   2],\n",
              "       [  2,  -1,   6],\n",
              "       [  3,   2,   1]])"
            ]
          },
          "metadata": {},
          "execution_count": 9
        }
      ]
    },
    {
      "cell_type": "code",
      "source": [
        "Atraneq = A.T\n",
        "Atraneq"
      ],
      "metadata": {
        "colab": {
          "base_uri": "https://localhost:8080/"
        },
        "id": "PEgN9jA1-Wl4",
        "outputId": "2a2cc0bf-a158-48ef-dee7-4c5384f2fa13"
      },
      "execution_count": null,
      "outputs": [
        {
          "output_type": "execute_result",
          "data": {
            "text/plain": [
              "array([[  1, 500,   2],\n",
              "       [  2,  -1,   6],\n",
              "       [  3,   2,   1]])"
            ]
          },
          "metadata": {},
          "execution_count": 10
        }
      ]
    },
    {
      "cell_type": "code",
      "source": [
        "np.array_equiv(Atran, Atraneq)"
      ],
      "metadata": {
        "colab": {
          "base_uri": "https://localhost:8080/"
        },
        "id": "gqDweEW--83Y",
        "outputId": "9dc8dd6e-0243-4be5-f233-92fb992f9cb7"
      },
      "execution_count": null,
      "outputs": [
        {
          "output_type": "execute_result",
          "data": {
            "text/plain": [
              "True"
            ]
          },
          "metadata": {},
          "execution_count": 11
        }
      ]
    },
    {
      "cell_type": "code",
      "source": [
        "B = np.array ([\n",
        "               [1,2,3,2],\n",
        "               [0,1,42,5],\n",
        "               [1,5,1,3]\n",
        "])\n",
        "B.shape"
      ],
      "metadata": {
        "colab": {
          "base_uri": "https://localhost:8080/"
        },
        "id": "ETp_oNTY_CvN",
        "outputId": "0dc3c75d-85a8-4877-b1c7-0a553b183edd"
      },
      "execution_count": null,
      "outputs": [
        {
          "output_type": "execute_result",
          "data": {
            "text/plain": [
              "(3, 4)"
            ]
          },
          "metadata": {},
          "execution_count": 18
        }
      ]
    },
    {
      "cell_type": "code",
      "source": [
        "np.transpose(B).shape"
      ],
      "metadata": {
        "colab": {
          "base_uri": "https://localhost:8080/"
        },
        "id": "ljVdDyS-_fe_",
        "outputId": "4be1923b-9254-46cd-e597-0289228c35b0"
      },
      "execution_count": null,
      "outputs": [
        {
          "output_type": "execute_result",
          "data": {
            "text/plain": [
              "(4, 3)"
            ]
          },
          "metadata": {},
          "execution_count": 19
        }
      ]
    },
    {
      "cell_type": "code",
      "source": [
        "B.T.                             shape"
      ],
      "metadata": {
        "colab": {
          "base_uri": "https://localhost:8080/"
        },
        "id": "uA-e3Ho1_jPK",
        "outputId": "60459ca6-c7ff-48bd-f3df-211d103d442f"
      },
      "execution_count": null,
      "outputs": [
        {
          "output_type": "execute_result",
          "data": {
            "text/plain": [
              "(4, 3)"
            ]
          },
          "metadata": {},
          "execution_count": 23
        }
      ]
    },
    {
      "cell_type": "markdown",
      "source": [
        "## Dot Product / Inner Product"
      ],
      "metadata": {
        "id": "l1yEybMtAYVt"
      }
    },
    {
      "cell_type": "code",
      "source": [
        "First = np.array ([\n",
        "               [3,4,5],\n",
        "               [3,5,2],\n",
        "               [2,4,1]\n",
        "])\n",
        "Second = np.array ([\n",
        "                    [1,2],\n",
        "                    [4,5],\n",
        "                    [7,7]\n",
        "])"
      ],
      "metadata": {
        "id": "G1KKAQoqAuRk"
      },
      "execution_count": null,
      "outputs": []
    },
    {
      "cell_type": "code",
      "source": [
        "np.array_equiv(First, Second)"
      ],
      "metadata": {
        "colab": {
          "base_uri": "https://localhost:8080/"
        },
        "id": "yFjm2aprBGzK",
        "outputId": "96f4fe3f-2085-42cc-a21f-d7e1a8b56230"
      },
      "execution_count": null,
      "outputs": [
        {
          "output_type": "execute_result",
          "data": {
            "text/plain": [
              "False"
            ]
          },
          "metadata": {},
          "execution_count": 26
        }
      ]
    },
    {
      "cell_type": "code",
      "source": [
        "First.dot(Second)"
      ],
      "metadata": {
        "colab": {
          "base_uri": "https://localhost:8080/"
        },
        "id": "UT3f18YkBNx_",
        "outputId": "90e193e3-c44d-4cf5-a95d-42c036cb37be"
      },
      "execution_count": null,
      "outputs": [
        {
          "output_type": "execute_result",
          "data": {
            "text/plain": [
              "array([[54, 61],\n",
              "       [37, 45],\n",
              "       [25, 31]])"
            ]
          },
          "metadata": {},
          "execution_count": 27
        }
      ]
    },
    {
      "cell_type": "code",
      "source": [
        "np.matmul(First, Second)"
      ],
      "metadata": {
        "colab": {
          "base_uri": "https://localhost:8080/"
        },
        "id": "LVWeZw8wBSMQ",
        "outputId": "04f3b583-2505-42d8-f485-207ac19e4487"
      },
      "execution_count": null,
      "outputs": [
        {
          "output_type": "execute_result",
          "data": {
            "text/plain": [
              "array([[54, 61],\n",
              "       [37, 45],\n",
              "       [25, 31]])"
            ]
          },
          "metadata": {},
          "execution_count": 28
        }
      ]
    },
    {
      "cell_type": "code",
      "source": [
        "First @ Second"
      ],
      "metadata": {
        "colab": {
          "base_uri": "https://localhost:8080/"
        },
        "id": "k7nS4_j2BWgD",
        "outputId": "fb75162e-7bd0-42a6-fa68-9cec1f42aa1a"
      },
      "execution_count": null,
      "outputs": [
        {
          "output_type": "execute_result",
          "data": {
            "text/plain": [
              "array([[54, 61],\n",
              "       [37, 45],\n",
              "       [25, 31]])"
            ]
          },
          "metadata": {},
          "execution_count": 29
        }
      ]
    },
    {
      "cell_type": "markdown",
      "source": [
        "###Rule 1 : The inner dimensions of the two matrices in question must be the same."
      ],
      "metadata": {
        "id": "5__WQAmJFtXV"
      }
    },
    {
      "cell_type": "code",
      "source": [
        "D = np.array ([\n",
        "               [3,1,1.5],\n",
        "               [1,5,2.1],\n",
        "               [3.5, 6.7, 23]\n",
        "])\n",
        "D.shape"
      ],
      "metadata": {
        "colab": {
          "base_uri": "https://localhost:8080/"
        },
        "id": "42fY2QNKB6wS",
        "outputId": "847201f3-61a3-4a54-a17b-c565f6ba9a24"
      },
      "execution_count": null,
      "outputs": [
        {
          "output_type": "execute_result",
          "data": {
            "text/plain": [
              "(3, 3)"
            ]
          },
          "metadata": {},
          "execution_count": 5
        }
      ]
    },
    {
      "cell_type": "code",
      "source": [
        "A = np.array([\n",
        "    [1, 3,5,7],\n",
        "    [5, 2,4,6],\n",
        "    [12, 90,1,0]\n",
        "])\n",
        "B = np.array([\n",
        "    [23,2,5,1],\n",
        "    [1.2,3.5,6,0],\n",
        "    [-1,-2,7,0] \n",
        "])\n",
        "C = np.array([\n",
        "    [0,12,5],\n",
        "    [0,5,0],\n",
        "    [3,4,2],\n",
        "    [1,2,3]\n",
        "])\n",
        "print(A.shape)\n",
        "print(B.shape)\n",
        "print(C.shape)"
      ],
      "metadata": {
        "colab": {
          "base_uri": "https://localhost:8080/"
        },
        "id": "eGugGR52EMB_",
        "outputId": "5521ef32-33c9-41e7-804f-b15e33a668f9"
      },
      "execution_count": null,
      "outputs": [
        {
          "output_type": "stream",
          "name": "stdout",
          "text": [
            "(3, 4)\n",
            "(3, 4)\n",
            "(4, 3)\n"
          ]
        }
      ]
    },
    {
      "cell_type": "code",
      "source": [
        "A @ C"
      ],
      "metadata": {
        "id": "blqcP8wmFHzv",
        "outputId": "1bc39968-2db9-4b7e-de6b-2f3a05544fa1",
        "colab": {
          "base_uri": "https://localhost:8080/"
        }
      },
      "execution_count": null,
      "outputs": [
        {
          "output_type": "execute_result",
          "data": {
            "text/plain": [
              "array([[ 22,  61,  36],\n",
              "       [ 18,  98,  51],\n",
              "       [  3, 598,  62]])"
            ]
          },
          "metadata": {},
          "execution_count": 6
        }
      ]
    },
    {
      "cell_type": "code",
      "source": [
        "B @ C"
      ],
      "metadata": {
        "id": "vWLGBroeFKSa",
        "outputId": "63e06580-0517-4f7b-cdba-e1191ce3c6a5",
        "colab": {
          "base_uri": "https://localhost:8080/"
        }
      },
      "execution_count": null,
      "outputs": [
        {
          "output_type": "execute_result",
          "data": {
            "text/plain": [
              "array([[ 16. , 308. , 128. ],\n",
              "       [ 18. ,  55.9,  18. ],\n",
              "       [ 21. ,   6. ,   9. ]])"
            ]
          },
          "metadata": {},
          "execution_count": 7
        }
      ]
    },
    {
      "cell_type": "markdown",
      "source": [
        "###Rule 2: Dot Product has special properties"
      ],
      "metadata": {
        "id": "0yDFX0v5GwEa"
      }
    },
    {
      "cell_type": "markdown",
      "source": [
        "1. $A \\cdot B \\neq B \\cdot A$\n",
        "2. $A \\cdot (B \\cdot C) = (A \\cdot B) \\cdot C$\n",
        "3. $A\\cdot(B+C) = A\\cdot B + A\\cdot C$\n",
        "4. $(B+C)\\cdot A = B\\cdot A + C\\cdot A$\n",
        "5. $A\\cdot I = A$\n",
        "6. $A\\cdot \\emptyset = \\emptyset$\n"
      ],
      "metadata": {
        "id": "AkErBfzlHY_n"
      }
    },
    {
      "cell_type": "code",
      "source": [
        "A = np.array([\n",
        "    [1,2,3,4],\n",
        "    [4,5,6,5],\n",
        "    [7,8,9,6],\n",
        "    [1,2,3,4]\n",
        "])\n",
        "B = np.array([\n",
        "    [0,0,0,1],\n",
        "    [0,0,3,7],\n",
        "    [0,4,8,5],\n",
        "    [1,2,3,4]\n",
        "])\n",
        "C = np.array([\n",
        "    [1,6,0,1],\n",
        "    [0,2,2,12],\n",
        "    [1,4,5,13],\n",
        "    [1,3,2,1]\n",
        "])"
      ],
      "metadata": {
        "id": "TSLex3IxGyrF"
      },
      "execution_count": null,
      "outputs": []
    },
    {
      "cell_type": "code",
      "source": [
        "E = A.dot(B)\n",
        "E2 = A.dot(C)\n",
        "F = B.dot(C)\n",
        "G = B + C\n",
        "H = E + E2"
      ],
      "metadata": {
        "id": "XfjGZkJ0IKFp"
      },
      "execution_count": null,
      "outputs": []
    },
    {
      "cell_type": "code",
      "source": [
        "I = B.dot(A)\n",
        "J = C.dot(A)\n",
        "K = I + J"
      ],
      "metadata": {
        "id": "oUbL1dIIJAxD"
      },
      "execution_count": null,
      "outputs": []
    },
    {
      "cell_type": "code",
      "source": [
        "A.dot(np.zeros(A.shape))"
      ],
      "metadata": {
        "colab": {
          "base_uri": "https://localhost:8080/"
        },
        "id": "RHgZDVR5HcMN",
        "outputId": "035bee6b-7e91-4cde-d2d1-b3f0dfcc3bd2"
      },
      "execution_count": null,
      "outputs": [
        {
          "output_type": "execute_result",
          "data": {
            "text/plain": [
              "array([[0., 0., 0., 0.],\n",
              "       [0., 0., 0., 0.],\n",
              "       [0., 0., 0., 0.],\n",
              "       [0., 0., 0., 0.]])"
            ]
          },
          "metadata": {},
          "execution_count": 48
        }
      ]
    },
    {
      "cell_type": "code",
      "source": [
        "np.array_equiv(A.dot(B), A.dot(A))"
      ],
      "metadata": {
        "colab": {
          "base_uri": "https://localhost:8080/"
        },
        "id": "1teXq_N1HnBk",
        "outputId": "9b25ec4e-8a5a-4b04-f723-425713331d85"
      },
      "execution_count": null,
      "outputs": [
        {
          "output_type": "execute_result",
          "data": {
            "text/plain": [
              "False"
            ]
          },
          "metadata": {},
          "execution_count": 50
        }
      ]
    },
    {
      "cell_type": "code",
      "source": [
        "np.array_equiv(A.dot(F), E.dot(C))"
      ],
      "metadata": {
        "colab": {
          "base_uri": "https://localhost:8080/"
        },
        "id": "LrYD-idhIGzh",
        "outputId": "ee555794-0ac0-4738-8bc0-ae3f20464e25"
      },
      "execution_count": null,
      "outputs": [
        {
          "output_type": "execute_result",
          "data": {
            "text/plain": [
              "True"
            ]
          },
          "metadata": {},
          "execution_count": 52
        }
      ]
    },
    {
      "cell_type": "code",
      "source": [
        "np.array_equiv(A.dot(G), H)"
      ],
      "metadata": {
        "colab": {
          "base_uri": "https://localhost:8080/"
        },
        "id": "lNAAUoWWIhc7",
        "outputId": "855223dd-3c5c-4355-9e90-745fcab913dd"
      },
      "execution_count": null,
      "outputs": [
        {
          "output_type": "execute_result",
          "data": {
            "text/plain": [
              "True"
            ]
          },
          "metadata": {},
          "execution_count": 55
        }
      ]
    },
    {
      "cell_type": "code",
      "source": [
        "np.array_equiv(G.dot(A), K)"
      ],
      "metadata": {
        "colab": {
          "base_uri": "https://localhost:8080/"
        },
        "id": "hcFeAaQ8I7Or",
        "outputId": "f4f689e1-dcec-4e7b-c7a6-92b6c0724955"
      },
      "execution_count": null,
      "outputs": [
        {
          "output_type": "execute_result",
          "data": {
            "text/plain": [
              "True"
            ]
          },
          "metadata": {},
          "execution_count": 58
        }
      ]
    },
    {
      "cell_type": "code",
      "source": [
        "A.dot(1)\n"
      ],
      "metadata": {
        "colab": {
          "base_uri": "https://localhost:8080/"
        },
        "id": "iVX5npirJefs",
        "outputId": "3a892d37-0088-4a42-9671-75fef98cd96f"
      },
      "execution_count": null,
      "outputs": [
        {
          "output_type": "execute_result",
          "data": {
            "text/plain": [
              "array([[1, 2, 3, 4],\n",
              "       [4, 5, 6, 5],\n",
              "       [7, 8, 9, 6],\n",
              "       [1, 2, 3, 4]])"
            ]
          },
          "metadata": {},
          "execution_count": 65
        }
      ]
    },
    {
      "cell_type": "code",
      "source": [
        "A.dot(0)\n"
      ],
      "metadata": {
        "colab": {
          "base_uri": "https://localhost:8080/"
        },
        "id": "5nFMyv5NJ0tM",
        "outputId": "a3f0be20-8090-4633-99bd-f5f11a5e6915"
      },
      "execution_count": null,
      "outputs": [
        {
          "output_type": "execute_result",
          "data": {
            "text/plain": [
              "array([[0, 0, 0, 0],\n",
              "       [0, 0, 0, 0],\n",
              "       [0, 0, 0, 0],\n",
              "       [0, 0, 0, 0]])"
            ]
          },
          "metadata": {},
          "execution_count": 61
        }
      ]
    },
    {
      "cell_type": "markdown",
      "source": [
        "##Determinants"
      ],
      "metadata": {
        "id": "unsXd6iULmDy"
      }
    },
    {
      "cell_type": "markdown",
      "source": [
        "it should be square matrix (np.linalg.det())"
      ],
      "metadata": {
        "id": "E1Ele7WJLoqW"
      }
    },
    {
      "cell_type": "code",
      "source": [
        "A = np.array([\n",
        "    [1,2,3,4],\n",
        "    [4,5,6,5],\n",
        "    [7,8,9,6],\n",
        "    [1,2,2,4]\n",
        "])\n",
        "B = np.array([\n",
        "    [0,5,0,],\n",
        "    [1,0,3,],\n",
        "    [0,4,8,]\n",
        "    \n",
        "])\n",
        "C = np.array([\n",
        "    [1,6],\n",
        "    [0,2]\n",
        "])\n"
      ],
      "metadata": {
        "id": "O7KWcZ85Luei"
      },
      "execution_count": null,
      "outputs": []
    },
    {
      "cell_type": "code",
      "source": [
        "X = np.linalg.det(A)\n",
        "X"
      ],
      "metadata": {
        "colab": {
          "base_uri": "https://localhost:8080/"
        },
        "id": "EUGhR_jMLxex",
        "outputId": "65353d06-f455-4dd2-8342-66fe36b7d5fc"
      },
      "execution_count": null,
      "outputs": [
        {
          "output_type": "execute_result",
          "data": {
            "text/plain": [
              "0.0"
            ]
          },
          "metadata": {},
          "execution_count": 88
        }
      ]
    },
    {
      "cell_type": "code",
      "source": [
        "Y = np.linalg.det(B)\n",
        "Y"
      ],
      "metadata": {
        "colab": {
          "base_uri": "https://localhost:8080/"
        },
        "id": "9Npm1XI7MBUJ",
        "outputId": "29fd95a0-52c1-43cf-e680-e15b2b82ceba"
      },
      "execution_count": null,
      "outputs": [
        {
          "output_type": "execute_result",
          "data": {
            "text/plain": [
              "-39.99999999999998"
            ]
          },
          "metadata": {},
          "execution_count": 81
        }
      ]
    },
    {
      "cell_type": "code",
      "source": [
        "Z = np.linalg.det(C)\n",
        "Z"
      ],
      "metadata": {
        "colab": {
          "base_uri": "https://localhost:8080/"
        },
        "id": "32POU1hwMNoa",
        "outputId": "fe8500f4-7ec5-489f-d37f-ca051507db8a"
      },
      "execution_count": null,
      "outputs": [
        {
          "output_type": "execute_result",
          "data": {
            "text/plain": [
              "2.0"
            ]
          },
          "metadata": {},
          "execution_count": 79
        }
      ]
    },
    {
      "cell_type": "markdown",
      "source": [
        "##INVERSE"
      ],
      "metadata": {
        "id": "jzpH3wwxNQig"
      }
    },
    {
      "cell_type": "markdown",
      "source": [
        "It should be square matrix (np.linalg.inv())"
      ],
      "metadata": {
        "id": "So-e-97VNT7i"
      }
    },
    {
      "cell_type": "code",
      "source": [
        "Try = np.array([\n",
        "    [5,6],\n",
        "    [1,-5]\n",
        "])\n",
        "\n",
        "np.array(Try @ np.linalg.inv(Try), dtype=int)"
      ],
      "metadata": {
        "colab": {
          "base_uri": "https://localhost:8080/"
        },
        "id": "cCEYVfnzNrEu",
        "outputId": "ebe61853-c04d-4d65-82c7-be5986be5c55"
      },
      "execution_count": null,
      "outputs": [
        {
          "output_type": "execute_result",
          "data": {
            "text/plain": [
              "array([[1, 0],\n",
              "       [0, 1]])"
            ]
          },
          "metadata": {},
          "execution_count": 90
        }
      ]
    },
    {
      "cell_type": "code",
      "source": [
        "A = np.array([\n",
        "    [1,2,3,4],\n",
        "    [4,-5,6,5],\n",
        "    [7,8,-9,6],\n",
        "    [1,-2,2,4]\n",
        "])\n",
        "B = np.array([\n",
        "    [0,5,0,],\n",
        "    [1,0,3,],\n",
        "    [0,4,8,]\n",
        "    \n",
        "])\n",
        "C = np.array([\n",
        "    [1,6],\n",
        "    [0,2]\n",
        "])\n"
      ],
      "metadata": {
        "id": "KgWjoQVXNSjp"
      },
      "execution_count": null,
      "outputs": []
    },
    {
      "cell_type": "code",
      "source": [
        "Xa = np.linalg.inv(A)\n",
        "Xa"
      ],
      "metadata": {
        "colab": {
          "base_uri": "https://localhost:8080/"
        },
        "id": "jSgbCBzVN2sa",
        "outputId": "a4ff4c75-9eaa-41eb-ad82-5a1ac074fa1c"
      },
      "execution_count": null,
      "outputs": [
        {
          "output_type": "execute_result",
          "data": {
            "text/plain": [
              "array([[-0.03359684,  0.23320158,  0.06521739, -0.35573123],\n",
              "       [ 0.20652174, -0.02173913,  0.01086957, -0.19565217],\n",
              "       [ 0.17391304,  0.08695652, -0.04347826, -0.2173913 ],\n",
              "       [ 0.02470356, -0.11264822,  0.01086957,  0.34980237]])"
            ]
          },
          "metadata": {},
          "execution_count": 101
        }
      ]
    },
    {
      "cell_type": "code",
      "source": [
        "Yb = np.linalg.inv(B)\n",
        "Yb"
      ],
      "metadata": {
        "colab": {
          "base_uri": "https://localhost:8080/"
        },
        "id": "wca78C5-OQrt",
        "outputId": "72991f66-2d84-4988-d010-ec55e1c38678"
      },
      "execution_count": null,
      "outputs": [
        {
          "output_type": "execute_result",
          "data": {
            "text/plain": [
              "array([[ 0.3  ,  1.   , -0.375],\n",
              "       [ 0.2  ,  0.   ,  0.   ],\n",
              "       [-0.1  ,  0.   ,  0.125]])"
            ]
          },
          "metadata": {},
          "execution_count": 97
        }
      ]
    },
    {
      "cell_type": "code",
      "source": [
        "Zc = np.linalg.inv(C)\n",
        "Zc"
      ],
      "metadata": {
        "colab": {
          "base_uri": "https://localhost:8080/"
        },
        "id": "XekHkooeOIzm",
        "outputId": "1557b9ea-8e65-43b8-ac90-976defe4cb3f"
      },
      "execution_count": null,
      "outputs": [
        {
          "output_type": "execute_result",
          "data": {
            "text/plain": [
              "array([[ 1. , -3. ],\n",
              "       [ 0. ,  0.5]])"
            ]
          },
          "metadata": {},
          "execution_count": 95
        }
      ]
    },
    {
      "cell_type": "code",
      "source": [
        "B = np.array([\n",
        "    [0,-5,0,],\n",
        "    [1,0,-3,],\n",
        "    [0,-4,8,]\n",
        "])\n",
        "Binv = np.linalg.inv(B)\n",
        "Binv"
      ],
      "metadata": {
        "colab": {
          "base_uri": "https://localhost:8080/"
        },
        "id": "k1BipvjhOZ4F",
        "outputId": "f20528da-12a9-4217-9f46-7fa276a223b4"
      },
      "execution_count": null,
      "outputs": [
        {
          "output_type": "execute_result",
          "data": {
            "text/plain": [
              "array([[-0.3  ,  1.   ,  0.375],\n",
              "       [-0.2  , -0.   , -0.   ],\n",
              "       [-0.1  ,  0.   ,  0.125]])"
            ]
          },
          "metadata": {},
          "execution_count": 99
        }
      ]
    },
    {
      "cell_type": "code",
      "source": [
        "B @ Binv"
      ],
      "metadata": {
        "id": "OVb8-nKXP6UK",
        "outputId": "71bdc9b3-a898-490a-f26d-91ff26bd5e36",
        "colab": {
          "base_uri": "https://localhost:8080/"
        }
      },
      "execution_count": null,
      "outputs": [
        {
          "output_type": "execute_result",
          "data": {
            "text/plain": [
              "array([[-1.  ,  0.  ,  0.  ],\n",
              "       [-0.6 ,  1.  ,  0.75],\n",
              "       [-1.6 ,  0.  ,  1.  ]])"
            ]
          },
          "metadata": {},
          "execution_count": 102
        }
      ]
    }
  ]
}