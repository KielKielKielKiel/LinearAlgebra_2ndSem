{
  "nbformat": 4,
  "nbformat_minor": 0,
  "metadata": {
    "colab": {
      "name": "Activity 1 - Phyton Fundamentals.ipynb",
      "provenance": [],
      "collapsed_sections": [
        "kTCAn4nU3Y6k"
      ],
      "authorship_tag": "ABX9TyNQzyU0daVS5KxlOXArFzFK",
      "include_colab_link": true
    },
    "kernelspec": {
      "name": "python3",
      "display_name": "Python 3"
    },
    "language_info": {
      "name": "python"
    }
  },
  "cells": [
    {
      "cell_type": "markdown",
      "metadata": {
        "id": "view-in-github",
        "colab_type": "text"
      },
      "source": [
        "<a href=\"https://colab.research.google.com/github/KielKielKielKiel/LinearAlgebra_2ndSem/blob/main/Activity_1_Phyton_Fundamentals.ipynb\" target=\"_parent\"><img src=\"https://colab.research.google.com/assets/colab-badge.svg\" alt=\"Open In Colab\"/></a>"
      ]
    },
    {
      "cell_type": "markdown",
      "source": [
        "# Welcome to Python Fundamentals\n",
        "In this module, we are going to establish or review our skills in Python programming. In this notebook we are going to cover:\n",
        "* Variables and Data Types \n",
        "* Operations\n",
        "* Input and Output Operations\n",
        "* Logic Control\n",
        "* Iterables\n",
        "* Functions\n"
      ],
      "metadata": {
        "id": "LrH2zTS6sJ1v"
      }
    },
    {
      "cell_type": "markdown",
      "source": [
        "## Variable and Data Types\n"
      ],
      "metadata": {
        "id": "9z7Izl_9tJSr"
      }
    },
    {
      "cell_type": "code",
      "source": [
        "x = 2 \n",
        "a = -1\n",
        "b = 'kiel' \n",
        "b\n"
      ],
      "metadata": {
        "colab": {
          "base_uri": "https://localhost:8080/",
          "height": 35
        },
        "id": "ab_vKIg6tUfZ",
        "outputId": "c9e19671-cf84-4ce9-a1af-1251d4a9530e"
      },
      "execution_count": null,
      "outputs": [
        {
          "output_type": "execute_result",
          "data": {
            "application/vnd.google.colaboratory.intrinsic+json": {
              "type": "string"
            },
            "text/plain": [
              "'kiel'"
            ]
          },
          "metadata": {},
          "execution_count": 25
        }
      ]
    },
    {
      "cell_type": "code",
      "source": [
        "type(x)"
      ],
      "metadata": {
        "colab": {
          "base_uri": "https://localhost:8080/"
        },
        "id": "C0o8j2FYvTcs",
        "outputId": "c05bd342-d424-4cf3-d955-0dd1a04f5c6d"
      },
      "execution_count": null,
      "outputs": [
        {
          "output_type": "execute_result",
          "data": {
            "text/plain": [
              "int"
            ]
          },
          "metadata": {},
          "execution_count": 12
        }
      ]
    },
    {
      "cell_type": "code",
      "source": [
        "x= float (x)\n",
        "type(x)"
      ],
      "metadata": {
        "colab": {
          "base_uri": "https://localhost:8080/"
        },
        "id": "IkrDhVdLvzZ2",
        "outputId": "9f03e16c-8313-4b42-dfbe-07fcf8bd3edd"
      },
      "execution_count": null,
      "outputs": [
        {
          "output_type": "execute_result",
          "data": {
            "text/plain": [
              "float"
            ]
          },
          "metadata": {},
          "execution_count": 17
        }
      ]
    },
    {
      "cell_type": "code",
      "source": [
        "#Trial\n",
        "b = str (b)\n",
        "type (b)"
      ],
      "metadata": {
        "colab": {
          "base_uri": "https://localhost:8080/"
        },
        "id": "CD0wXiqLzMgZ",
        "outputId": "0b9b466f-a8f1-4925-dfda-e94d0e93fb3e"
      },
      "execution_count": null,
      "outputs": [
        {
          "output_type": "execute_result",
          "data": {
            "text/plain": [
              "str"
            ]
          },
          "metadata": {},
          "execution_count": 29
        }
      ]
    },
    {
      "cell_type": "code",
      "source": [
        "K, I, E, L ='1','2','one','two'\n",
        "type (K)"
      ],
      "metadata": {
        "colab": {
          "base_uri": "https://localhost:8080/"
        },
        "id": "8yuIA7nrwv6z",
        "outputId": "4c0b0813-baf6-4052-e16e-78aa9768fd5e"
      },
      "execution_count": null,
      "outputs": [
        {
          "output_type": "execute_result",
          "data": {
            "text/plain": [
              "str"
            ]
          },
          "metadata": {},
          "execution_count": 31
        }
      ]
    },
    {
      "cell_type": "code",
      "source": [
        "K_float = float (K)\n",
        "K_float"
      ],
      "metadata": {
        "colab": {
          "base_uri": "https://localhost:8080/"
        },
        "outputId": "1135d685-e0e1-41dc-aaf6-40dc9ad5d263",
        "id": "bs3I-jzkxlfy"
      },
      "execution_count": null,
      "outputs": [
        {
          "output_type": "execute_result",
          "data": {
            "text/plain": [
              "1.0"
            ]
          },
          "metadata": {},
          "execution_count": 23
        }
      ]
    },
    {
      "cell_type": "code",
      "source": [
        "E_str = str (E)\n",
        "E_str"
      ],
      "metadata": {
        "colab": {
          "base_uri": "https://localhost:8080/",
          "height": 35
        },
        "id": "BnNdDenrxNEM",
        "outputId": "50b1519d-f6f3-466a-9627-d84f54d16a7b"
      },
      "execution_count": null,
      "outputs": [
        {
          "output_type": "execute_result",
          "data": {
            "application/vnd.google.colaboratory.intrinsic+json": {
              "type": "string"
            },
            "text/plain": [
              "'one'"
            ]
          },
          "metadata": {},
          "execution_count": 21
        }
      ]
    },
    {
      "cell_type": "code",
      "source": [
        "#Trial\n",
        "T = str (K)\n",
        "R = str (I)\n",
        "I = str (E)\n",
        "A = str (L)\n",
        "\n",
        "R,T,I,A"
      ],
      "metadata": {
        "colab": {
          "base_uri": "https://localhost:8080/"
        },
        "id": "_2Q7J6X_zfLo",
        "outputId": "e9b59cab-d164-4ecd-96ff-621201c52ece"
      },
      "execution_count": null,
      "outputs": [
        {
          "output_type": "execute_result",
          "data": {
            "text/plain": [
              "('one', '1', 'one', 'two')"
            ]
          },
          "metadata": {},
          "execution_count": 40
        }
      ]
    },
    {
      "cell_type": "code",
      "source": [
        "#Trial\n",
        "L= float (K)\n",
        "t= str (I)\n",
        "r= str (E)\n",
        "i= str (L)\n",
        "t,r,i,L"
      ],
      "metadata": {
        "colab": {
          "base_uri": "https://localhost:8080/"
        },
        "id": "jvTpacLY0zYF",
        "outputId": "efe10c50-14f1-4eb8-aeeb-9886ab7dfdb2"
      },
      "execution_count": null,
      "outputs": [
        {
          "output_type": "execute_result",
          "data": {
            "text/plain": [
              "('one', 'one', '1.0', 1.0)"
            ]
          },
          "metadata": {},
          "execution_count": 47
        }
      ]
    },
    {
      "cell_type": "markdown",
      "source": [
        "## Operations"
      ],
      "metadata": {
        "id": "FFb9fJN2yFq9"
      }
    },
    {
      "cell_type": "markdown",
      "source": [
        "### Arithmetic"
      ],
      "metadata": {
        "id": "Ln2lXzC9yNRr"
      }
    },
    {
      "cell_type": "code",
      "source": [
        "a,b,c,d = 3, 3.5,2,2.5"
      ],
      "metadata": {
        "id": "L3bC0I8OyP0m"
      },
      "execution_count": null,
      "outputs": []
    },
    {
      "cell_type": "code",
      "source": [
        "# Adition\n",
        "S = a + b \n",
        "S"
      ],
      "metadata": {
        "colab": {
          "base_uri": "https://localhost:8080/"
        },
        "id": "8faNAPsRycRM",
        "outputId": "e9637ffc-80ec-446a-e05a-43203b8944d8"
      },
      "execution_count": null,
      "outputs": [
        {
          "output_type": "execute_result",
          "data": {
            "text/plain": [
              "6.5"
            ]
          },
          "metadata": {},
          "execution_count": 32
        }
      ]
    },
    {
      "cell_type": "code",
      "source": [
        "# Subtraction\n",
        "D = b-d\n",
        "D"
      ],
      "metadata": {
        "colab": {
          "base_uri": "https://localhost:8080/"
        },
        "id": "TaEhWvxDzdRt",
        "outputId": "d8e30dcc-2862-4681-b5d1-bc636c55b3ed"
      },
      "execution_count": null,
      "outputs": [
        {
          "output_type": "execute_result",
          "data": {
            "text/plain": [
              "1.0"
            ]
          },
          "metadata": {},
          "execution_count": 38
        }
      ]
    },
    {
      "cell_type": "code",
      "source": [
        "# Multiplication\n",
        "P= a*c\n",
        "P"
      ],
      "metadata": {
        "colab": {
          "base_uri": "https://localhost:8080/"
        },
        "id": "tAI302w6zjRT",
        "outputId": "53e88da6-d446-4919-f790-44b576bc88c0"
      },
      "execution_count": null,
      "outputs": [
        {
          "output_type": "execute_result",
          "data": {
            "text/plain": [
              "6"
            ]
          },
          "metadata": {},
          "execution_count": 37
        }
      ]
    },
    {
      "cell_type": "code",
      "source": [
        "# Division\n",
        "Q = b / c\n",
        "Q"
      ],
      "metadata": {
        "colab": {
          "base_uri": "https://localhost:8080/"
        },
        "id": "bJRPoUvuzx6a",
        "outputId": "7ffa0f1c-7feb-4886-992b-8c1e12d508c8"
      },
      "execution_count": null,
      "outputs": [
        {
          "output_type": "execute_result",
          "data": {
            "text/plain": [
              "1.75"
            ]
          },
          "metadata": {},
          "execution_count": 40
        }
      ]
    },
    {
      "cell_type": "code",
      "source": [
        "# Floor Division\n",
        "FD = b // c\n",
        "FD"
      ],
      "metadata": {
        "colab": {
          "base_uri": "https://localhost:8080/"
        },
        "id": "ZaFjCtjzz8ef",
        "outputId": "1b2d4c6c-cf49-4dfd-8988-fc5c1427505e"
      },
      "execution_count": null,
      "outputs": [
        {
          "output_type": "execute_result",
          "data": {
            "text/plain": [
              "1.0"
            ]
          },
          "metadata": {},
          "execution_count": 43
        }
      ]
    },
    {
      "cell_type": "code",
      "source": [
        "# Exponentiation\n",
        "E = a**a\n",
        "E"
      ],
      "metadata": {
        "colab": {
          "base_uri": "https://localhost:8080/"
        },
        "id": "wzOaVFZu0Ryn",
        "outputId": "d31326c5-16a2-4c63-e134-3e6dab19b000"
      },
      "execution_count": null,
      "outputs": [
        {
          "output_type": "execute_result",
          "data": {
            "text/plain": [
              "27"
            ]
          },
          "metadata": {},
          "execution_count": 46
        }
      ]
    },
    {
      "cell_type": "code",
      "source": [
        "# Modulo \n",
        "Mod = d%a\n",
        "Mod"
      ],
      "metadata": {
        "colab": {
          "base_uri": "https://localhost:8080/"
        },
        "id": "icpLvKu80Z9T",
        "outputId": "e516222e-09a4-41d3-d9c7-bed6aa04455a"
      },
      "execution_count": null,
      "outputs": [
        {
          "output_type": "execute_result",
          "data": {
            "text/plain": [
              "2.5"
            ]
          },
          "metadata": {},
          "execution_count": 48
        }
      ]
    },
    {
      "cell_type": "code",
      "source": [
        "#Trial \n",
        "T = (a+b) + (a-b) +(a*c) + (a/d) + (b//c) + (c**c) + (d%a)\n",
        "T\n"
      ],
      "metadata": {
        "colab": {
          "base_uri": "https://localhost:8080/"
        },
        "id": "XKAR4eGgvXJD",
        "outputId": "e5cd5e89-da8c-45e1-a4b8-fa1d3ef84f79"
      },
      "execution_count": null,
      "outputs": [
        {
          "output_type": "execute_result",
          "data": {
            "text/plain": [
              "20.7"
            ]
          },
          "metadata": {},
          "execution_count": 4
        }
      ]
    },
    {
      "cell_type": "markdown",
      "source": [
        "### Assignment Operations"
      ],
      "metadata": {
        "id": "jPn5n0bV1WDk"
      }
    },
    {
      "cell_type": "code",
      "source": [
        "G, H, J, K = 0, 100, 2, 50 "
      ],
      "metadata": {
        "id": "0xaubc391ZpT"
      },
      "execution_count": null,
      "outputs": []
    },
    {
      "cell_type": "code",
      "source": [
        "## increment\n",
        "K += a\n",
        "K"
      ],
      "metadata": {
        "colab": {
          "base_uri": "https://localhost:8080/"
        },
        "id": "6YY_U9zh1jsL",
        "outputId": "99cc29d3-db50-405f-e5a9-2c3e8fc19d85"
      },
      "execution_count": null,
      "outputs": [
        {
          "output_type": "execute_result",
          "data": {
            "text/plain": [
              "0"
            ]
          },
          "metadata": {},
          "execution_count": 59
        }
      ]
    },
    {
      "cell_type": "code",
      "source": [
        "## decrement\n",
        "H -= d\n",
        "H"
      ],
      "metadata": {
        "colab": {
          "base_uri": "https://localhost:8080/"
        },
        "id": "433UJtQK1ncm",
        "outputId": "86a32b40-02c6-4d0f-fe4c-73ccc1750aaa"
      },
      "execution_count": null,
      "outputs": [
        {
          "output_type": "execute_result",
          "data": {
            "text/plain": [
              "85.0"
            ]
          },
          "metadata": {},
          "execution_count": 58
        }
      ]
    },
    {
      "cell_type": "code",
      "source": [
        "## Multiplier \n",
        "J *= 2\n",
        "J"
      ],
      "metadata": {
        "colab": {
          "base_uri": "https://localhost:8080/"
        },
        "id": "D41B2AhP1ur8",
        "outputId": "09c60962-6b74-4040-9dd8-1cd122fbb74e"
      },
      "execution_count": null,
      "outputs": [
        {
          "output_type": "execute_result",
          "data": {
            "text/plain": [
              "4"
            ]
          },
          "metadata": {},
          "execution_count": 52
        }
      ]
    },
    {
      "cell_type": "code",
      "source": [
        "K **= 2\n",
        "K"
      ],
      "metadata": {
        "colab": {
          "base_uri": "https://localhost:8080/"
        },
        "id": "Taj_SFNM2D0Z",
        "outputId": "11f7b8e2-4ea5-4140-d809-7af91251cf50"
      },
      "execution_count": null,
      "outputs": [
        {
          "output_type": "execute_result",
          "data": {
            "text/plain": [
              "2500"
            ]
          },
          "metadata": {},
          "execution_count": 83
        }
      ]
    },
    {
      "cell_type": "code",
      "source": [
        "#Trial\n",
        "H += a\n",
        "G -= b\n",
        "K *= c\n",
        "J **=d\n",
        "H,G,K,L"
      ],
      "metadata": {
        "colab": {
          "base_uri": "https://localhost:8080/"
        },
        "id": "TxataNPc2bl4",
        "outputId": "3cc1b915-32eb-4f91-88cf-761f3644b2f1"
      },
      "execution_count": null,
      "outputs": [
        {
          "output_type": "execute_result",
          "data": {
            "text/plain": [
              "(103, -3.5, 5000, 1.0)"
            ]
          },
          "metadata": {},
          "execution_count": 84
        }
      ]
    },
    {
      "cell_type": "code",
      "source": [
        "#Trial  \n",
        "H += (a+b)\n",
        "G -= (c-d)\n",
        "K *= (a*c)\n",
        "J **= (c/d)\n",
        "H, G, K,L"
      ],
      "metadata": {
        "colab": {
          "base_uri": "https://localhost:8080/"
        },
        "id": "1-yRzKhc21rZ",
        "outputId": "c7d72ff2-41b5-49fc-e619-a083bf5e946c"
      },
      "execution_count": null,
      "outputs": [
        {
          "output_type": "execute_result",
          "data": {
            "text/plain": [
              "(109.5, -3.0, 30000, 1.0)"
            ]
          },
          "metadata": {},
          "execution_count": 85
        }
      ]
    },
    {
      "cell_type": "markdown",
      "source": [
        "### Comparators"
      ],
      "metadata": {
        "id": "kTCAn4nU3Y6k"
      }
    },
    {
      "cell_type": "code",
      "source": [
        "res_1, res_2, res_3, res_4 = 1, 2.0, 1.0, '1.5'\n",
        "true_val=1.0, '1.5'"
      ],
      "metadata": {
        "id": "iZ-C0KtE3alm"
      },
      "execution_count": null,
      "outputs": []
    },
    {
      "cell_type": "code",
      "source": [
        "## Equality\n",
        "res_2 == true_val"
      ],
      "metadata": {
        "colab": {
          "base_uri": "https://localhost:8080/"
        },
        "id": "I-6adBGP3yjX",
        "outputId": "5b6ddef6-9a89-40e9-81eb-a3b747bff0d7"
      },
      "execution_count": null,
      "outputs": [
        {
          "output_type": "execute_result",
          "data": {
            "text/plain": [
              "False"
            ]
          },
          "metadata": {},
          "execution_count": 53
        }
      ]
    },
    {
      "cell_type": "code",
      "source": [
        "## Non Equality\n",
        "res_2  != true_val"
      ],
      "metadata": {
        "colab": {
          "base_uri": "https://localhost:8080/"
        },
        "id": "1xGHFj_i3z7o",
        "outputId": "623ded52-6aa8-4f9c-fa19-78f906a24376"
      },
      "execution_count": null,
      "outputs": [
        {
          "output_type": "execute_result",
          "data": {
            "text/plain": [
              "True"
            ]
          },
          "metadata": {},
          "execution_count": 63
        }
      ]
    },
    {
      "cell_type": "code",
      "source": [
        "## Inequality \n",
        "t1 = res_1 > res_2\n",
        "t2 = res_1 < res_2/2\n",
        "t3 = res_1 >= res_2/2\n",
        "t4 = res_1 ** 2 <= res_2\n",
        "t4"
      ],
      "metadata": {
        "colab": {
          "base_uri": "https://localhost:8080/"
        },
        "id": "Gduk7XYh390H",
        "outputId": "873e630e-a04e-4d3d-d0d2-3959b08cd8f2"
      },
      "execution_count": null,
      "outputs": [
        {
          "output_type": "execute_result",
          "data": {
            "text/plain": [
              "True"
            ]
          },
          "metadata": {},
          "execution_count": 68
        }
      ]
    },
    {
      "cell_type": "markdown",
      "source": [
        "### Logical"
      ],
      "metadata": {
        "id": "maaPnNKN5duS"
      }
    },
    {
      "cell_type": "code",
      "source": [
        "res_1 == true_val"
      ],
      "metadata": {
        "id": "hgWSE2zZ5h8G",
        "colab": {
          "base_uri": "https://localhost:8080/"
        },
        "outputId": "56bfe359-69e4-49cb-e0d1-27a6f58d60eb"
      },
      "execution_count": null,
      "outputs": [
        {
          "output_type": "execute_result",
          "data": {
            "text/plain": [
              "True"
            ]
          },
          "metadata": {},
          "execution_count": 54
        }
      ]
    },
    {
      "cell_type": "code",
      "source": [
        "#Trial\n",
        "res_1 != true_val"
      ],
      "metadata": {
        "colab": {
          "base_uri": "https://localhost:8080/"
        },
        "id": "UtC_PohZ5D3v",
        "outputId": "44f21782-6c1e-43ca-a0ea-e81236a265fe"
      },
      "execution_count": null,
      "outputs": [
        {
          "output_type": "execute_result",
          "data": {
            "text/plain": [
              "False"
            ]
          },
          "metadata": {},
          "execution_count": 86
        }
      ]
    },
    {
      "cell_type": "code",
      "source": [
        "#Trial\n",
        "res_2 == true_val\n"
      ],
      "metadata": {
        "colab": {
          "base_uri": "https://localhost:8080/"
        },
        "id": "mPVS62cT5OzC",
        "outputId": "a0d05634-80f1-40b9-cf1b-29d4855e47cf"
      },
      "execution_count": null,
      "outputs": [
        {
          "output_type": "execute_result",
          "data": {
            "text/plain": [
              "False"
            ]
          },
          "metadata": {},
          "execution_count": 87
        }
      ]
    },
    {
      "cell_type": "code",
      "source": [
        "res_1 is true_val"
      ],
      "metadata": {
        "colab": {
          "base_uri": "https://localhost:8080/"
        },
        "id": "IEWK4G0r5mp0",
        "outputId": "2ba035f5-b49a-4004-d138-e253f84771c3"
      },
      "execution_count": null,
      "outputs": [
        {
          "output_type": "execute_result",
          "data": {
            "text/plain": [
              "False"
            ]
          },
          "metadata": {},
          "execution_count": 55
        }
      ]
    },
    {
      "cell_type": "code",
      "source": [
        "# trial\n",
        "res_1 == res_3"
      ],
      "metadata": {
        "colab": {
          "base_uri": "https://localhost:8080/"
        },
        "id": "Y4ZCIFy35WT9",
        "outputId": "5025e65a-35d9-4b03-92f0-226026c808ff"
      },
      "execution_count": null,
      "outputs": [
        {
          "output_type": "execute_result",
          "data": {
            "text/plain": [
              "True"
            ]
          },
          "metadata": {},
          "execution_count": 95
        }
      ]
    },
    {
      "cell_type": "code",
      "source": [
        "# trial\n",
        "true_val != res_3"
      ],
      "metadata": {
        "colab": {
          "base_uri": "https://localhost:8080/"
        },
        "id": "L4861rSp5J_O",
        "outputId": "607ed911-118b-4635-8d9e-dd48d072604a"
      },
      "execution_count": null,
      "outputs": [
        {
          "output_type": "execute_result",
          "data": {
            "text/plain": [
              "True"
            ]
          },
          "metadata": {},
          "execution_count": 93
        }
      ]
    },
    {
      "cell_type": "code",
      "source": [
        "res_1 is not true_val"
      ],
      "metadata": {
        "colab": {
          "base_uri": "https://localhost:8080/"
        },
        "id": "Z0YpXQD25u2V",
        "outputId": "b11dfa83-c6ec-451f-e2fb-23fdfa4aa247"
      },
      "execution_count": null,
      "outputs": [
        {
          "output_type": "execute_result",
          "data": {
            "text/plain": [
              "False"
            ]
          },
          "metadata": {},
          "execution_count": 76
        }
      ]
    },
    {
      "cell_type": "code",
      "source": [
        "### Conjuction\n",
        "p, q = True, False \n",
        "conj = p and q\n",
        "conj"
      ],
      "metadata": {
        "colab": {
          "base_uri": "https://localhost:8080/"
        },
        "id": "flG5DFJ16baM",
        "outputId": "85d6e0e9-4c25-4da3-dc31-819a88273b58"
      },
      "execution_count": null,
      "outputs": [
        {
          "output_type": "execute_result",
          "data": {
            "text/plain": [
              "False"
            ]
          },
          "metadata": {},
          "execution_count": 79
        }
      ]
    },
    {
      "cell_type": "code",
      "source": [
        "### Disjunction\n",
        "p, q = True, False\n",
        "disj = p or q\n",
        "disj"
      ],
      "metadata": {
        "colab": {
          "base_uri": "https://localhost:8080/"
        },
        "id": "J0FVWTmm7MaK",
        "outputId": "8bf4039d-2395-4d01-e8b1-1a6beede55a4"
      },
      "execution_count": null,
      "outputs": [
        {
          "output_type": "execute_result",
          "data": {
            "text/plain": [
              "True"
            ]
          },
          "metadata": {},
          "execution_count": 81
        }
      ]
    },
    {
      "cell_type": "code",
      "source": [
        "### Negation\n",
        "p, q = True, False\n",
        "nand = not(p and q)\n",
        "nand"
      ],
      "metadata": {
        "colab": {
          "base_uri": "https://localhost:8080/"
        },
        "id": "5C6vg_nY7dQE",
        "outputId": "5aa5a327-cf3a-44d7-cfd3-b8ee46b865c6"
      },
      "execution_count": null,
      "outputs": [
        {
          "output_type": "execute_result",
          "data": {
            "text/plain": [
              "True"
            ]
          },
          "metadata": {},
          "execution_count": 82
        }
      ]
    },
    {
      "cell_type": "code",
      "source": [
        "### pagsamahin\n",
        "p, q = True, False\n",
        "e = not(p and q) or (p or q)\n",
        "e"
      ],
      "metadata": {
        "colab": {
          "base_uri": "https://localhost:8080/"
        },
        "outputId": "15cd0e3d-3306-4f6c-e6ef-fc6a2eeac5bb",
        "id": "cw5AhLIQ7zPI"
      },
      "execution_count": null,
      "outputs": [
        {
          "output_type": "execute_result",
          "data": {
            "text/plain": [
              "True"
            ]
          },
          "metadata": {},
          "execution_count": 83
        }
      ]
    },
    {
      "cell_type": "markdown",
      "source": [
        "### 1/0"
      ],
      "metadata": {
        "id": "wFIl8XoT79ib"
      }
    },
    {
      "cell_type": "code",
      "source": [
        "print(\"Hello World\")"
      ],
      "metadata": {
        "colab": {
          "base_uri": "https://localhost:8080/"
        },
        "id": "RDaU6xsp8KoT",
        "outputId": "87e3ba32-ad29-4229-fab8-37f7fd1545d3"
      },
      "execution_count": null,
      "outputs": [
        {
          "output_type": "stream",
          "name": "stdout",
          "text": [
            "Hello World\n"
          ]
        }
      ]
    },
    {
      "cell_type": "code",
      "source": [
        "cnt = 1"
      ],
      "metadata": {
        "id": "FGFYNclA8SeK"
      },
      "execution_count": null,
      "outputs": []
    },
    {
      "cell_type": "code",
      "source": [
        "string = \"Hello world\" \n",
        "print(string, \", Current run count is:\", cnt)\n",
        "cnt += 1\n"
      ],
      "metadata": {
        "colab": {
          "base_uri": "https://localhost:8080/"
        },
        "id": "HbpBZFjY8a4z",
        "outputId": "aa6bf03d-83f2-464c-9b04-33c82bb36b80"
      },
      "execution_count": null,
      "outputs": [
        {
          "output_type": "stream",
          "name": "stdout",
          "text": [
            "Hello world , Current run count is: 1\n"
          ]
        }
      ]
    },
    {
      "cell_type": "code",
      "source": [
        "print(f\"{string}, Current Count is:\", cnt)"
      ],
      "metadata": {
        "colab": {
          "base_uri": "https://localhost:8080/"
        },
        "id": "CxS3oslt8weV",
        "outputId": "23dcbd4c-e23b-49f0-bfb3-dc114c25965f"
      },
      "execution_count": null,
      "outputs": [
        {
          "output_type": "stream",
          "name": "stdout",
          "text": [
            "Hello world, Current Count is: 2\n"
          ]
        }
      ]
    },
    {
      "cell_type": "code",
      "source": [
        "sem_grade = 1.00\n",
        "name = 'Kiel'\n",
        "print (\"Hello {}, your semestral grade is: {}'\".format(name, sem_grade))"
      ],
      "metadata": {
        "colab": {
          "base_uri": "https://localhost:8080/"
        },
        "id": "7IM_-i4t9bka",
        "outputId": "9428b74c-ba2f-45bc-ee8e-3c590fec162a"
      },
      "execution_count": null,
      "outputs": [
        {
          "output_type": "stream",
          "name": "stdout",
          "text": [
            "Hello Kiel, your semestral grade is: 1.0'\n"
          ]
        }
      ]
    },
    {
      "cell_type": "code",
      "source": [
        "w_pg, w_mg, w_fg = 0.3, 0.3, 0.4 \n",
        "print(\"The weights of your semestral grades are: \\\n",
        "\\n\\t{:.2%} for Prelims\\\n",
        "\\n\\t{:.2%} for Midters, and\\\n",
        "\\n\\t{:.2%} for Finals.\".format(w_pg, w_mg, w_fg))\n"
      ],
      "metadata": {
        "id": "0scYY_3z9ktu",
        "colab": {
          "base_uri": "https://localhost:8080/"
        },
        "outputId": "4ee32158-4c5f-45ee-d10b-c5368620c183"
      },
      "execution_count": null,
      "outputs": [
        {
          "output_type": "stream",
          "name": "stdout",
          "text": [
            "The weights of your semestral grades are: \n",
            "\t30.00% for Prelims\n",
            "\t30.00% for Midters, and\n",
            "\t40.00% for Finals.\n"
          ]
        }
      ]
    },
    {
      "cell_type": "code",
      "source": [
        "x=input(\"enter a number: \")\n",
        "x"
      ],
      "metadata": {
        "colab": {
          "base_uri": "https://localhost:8080/",
          "height": 52
        },
        "id": "3vcYdFlHt6av",
        "outputId": "b109b687-3d28-4de4-de2e-a2db41277e32"
      },
      "execution_count": null,
      "outputs": [
        {
          "name": "stdout",
          "output_type": "stream",
          "text": [
            "enter a number: 27\n"
          ]
        },
        {
          "output_type": "execute_result",
          "data": {
            "application/vnd.google.colaboratory.intrinsic+json": {
              "type": "string"
            },
            "text/plain": [
              "'27'"
            ]
          },
          "metadata": {},
          "execution_count": 16
        }
      ]
    },
    {
      "cell_type": "code",
      "source": [
        "name = input (\"Kimi no nawa: \")\n",
        "pg = float (input (\"Enter Prelim Grade: \"))\n",
        "mg = float (input (\"Enter Midterm Grade: \"))\n",
        "fg = float (input (\"Enter Finals Grade: \"))\n",
        "sem_grade = pg * 0.3 + mg * 0.3 + fg * 0.4\n",
        "print(\"Hello {}, \\\n",
        "\\n your semestral grade is : {}\".format (name, sem_grade))"
      ],
      "metadata": {
        "colab": {
          "base_uri": "https://localhost:8080/"
        },
        "id": "3jNaSMFcu1Wq",
        "outputId": "5ac45be4-4c35-45bd-903b-0ab1106b7bb2"
      },
      "execution_count": null,
      "outputs": [
        {
          "output_type": "stream",
          "name": "stdout",
          "text": [
            "Kimi no nawa: ie\n",
            "Enter Prelim Grade: 19\n",
            "Enter Midterm Grade: 2\n",
            "Enter Finals Grade: 13\n",
            "Hello ie, \n",
            " your semestral grade is : 11.5\n"
          ]
        }
      ]
    },
    {
      "cell_type": "markdown",
      "source": [
        "# Looping Statements\n"
      ],
      "metadata": {
        "id": "efSi1SESv-fg"
      }
    },
    {
      "cell_type": "markdown",
      "source": [
        "## While loops"
      ],
      "metadata": {
        "id": "dVahn6x5wGBx"
      }
    },
    {
      "cell_type": "code",
      "source": [
        "## while"
      ],
      "metadata": {
        "id": "pesc-mwUwDP9"
      },
      "execution_count": null,
      "outputs": []
    },
    {
      "cell_type": "code",
      "source": [
        "i, j = 5,31\n",
        "while (i<=j):\n",
        "    print(f\"{i}\\t|\\t{j}\")\n",
        "    i+=1"
      ],
      "metadata": {
        "colab": {
          "base_uri": "https://localhost:8080/"
        },
        "id": "E7PNAsrawJrg",
        "outputId": "c3ed926f-98d2-4c6a-aade-b513d76430e6"
      },
      "execution_count": null,
      "outputs": [
        {
          "output_type": "stream",
          "name": "stdout",
          "text": [
            "5\t|\t31\n",
            "6\t|\t31\n",
            "7\t|\t31\n",
            "8\t|\t31\n",
            "9\t|\t31\n",
            "10\t|\t31\n",
            "11\t|\t31\n",
            "12\t|\t31\n",
            "13\t|\t31\n",
            "14\t|\t31\n",
            "15\t|\t31\n",
            "16\t|\t31\n",
            "17\t|\t31\n",
            "18\t|\t31\n",
            "19\t|\t31\n",
            "20\t|\t31\n",
            "21\t|\t31\n",
            "22\t|\t31\n",
            "23\t|\t31\n",
            "24\t|\t31\n",
            "25\t|\t31\n",
            "26\t|\t31\n",
            "27\t|\t31\n",
            "28\t|\t31\n",
            "29\t|\t31\n",
            "30\t|\t31\n",
            "31\t|\t31\n"
          ]
        }
      ]
    },
    {
      "cell_type": "code",
      "source": [
        "#for(int i=0; i<10; i++){\n",
        "    #printf(i)\n",
        "    #}\n",
        "\n",
        "i=0   \n",
        "for i in range(10):\n",
        "    print(i)"
      ],
      "metadata": {
        "colab": {
          "base_uri": "https://localhost:8080/"
        },
        "id": "I7z2AnsFxeed",
        "outputId": "3eb0ac24-30f9-4520-83a3-cde413b950fd"
      },
      "execution_count": null,
      "outputs": [
        {
          "output_type": "stream",
          "name": "stdout",
          "text": [
            "0\n",
            "1\n",
            "2\n",
            "3\n",
            "4\n",
            "5\n",
            "6\n",
            "7\n",
            "8\n",
            "9\n"
          ]
        }
      ]
    },
    {
      "cell_type": "code",
      "source": [
        "playlist = [\"Crazier\"]\n",
        "print ('Now Playing: \\n')\n",
        "for song in playlist:\n",
        "  print(song)"
      ],
      "metadata": {
        "colab": {
          "base_uri": "https://localhost:8080/"
        },
        "id": "Qq_fL0_RyIKj",
        "outputId": "6fbb34db-0d88-4926-b98a-7f5b4b66ce36"
      },
      "execution_count": null,
      "outputs": [
        {
          "output_type": "stream",
          "name": "stdout",
          "text": [
            "Now Playing: \n",
            "\n",
            "Crazier\n"
          ]
        }
      ]
    },
    {
      "cell_type": "markdown",
      "source": [
        "# Flow Control"
      ],
      "metadata": {
        "id": "hYx00o2Uymxq"
      }
    },
    {
      "cell_type": "markdown",
      "source": [
        "## Condition statements"
      ],
      "metadata": {
        "id": "zu7mK9gzy2z9"
      }
    },
    {
      "cell_type": "code",
      "source": [
        "numeral1, numeral2 = 21, 12\n",
        "if(numeral1 == numeral2):\n",
        "  print(\"yey\")\n",
        "elif(numeral1>numeral2):\n",
        "  print(\"Tama, Mas malaki yung una\")\n",
        "else:\n",
        "  print(\"Awwwit none of the above\")"
      ],
      "metadata": {
        "colab": {
          "base_uri": "https://localhost:8080/"
        },
        "id": "4iqU4Ffiy1rG",
        "outputId": "e854c819-7d31-4a66-aa6f-500ddad034ec"
      },
      "execution_count": null,
      "outputs": [
        {
          "output_type": "stream",
          "name": "stdout",
          "text": [
            "Hoho\n"
          ]
        }
      ]
    },
    {
      "cell_type": "markdown",
      "source": [
        "## Functions"
      ],
      "metadata": {
        "id": "iVSkPgis1iMt"
      }
    },
    {
      "cell_type": "code",
      "source": [
        "# void DeleteUser (int userid){\n",
        "# delete (userid);\n",
        "# }\n",
        "\n",
        "def create_user (userid):\n",
        "  print(\"Successfull, Welcome: {}\".format(userid))\n",
        "\n",
        "def delete_all_users ():\n",
        "  print(\"Successfully deleted all users\")\n",
        "\n",
        "\n"
      ],
      "metadata": {
        "id": "YUQ4tXRk1kWD"
      },
      "execution_count": null,
      "outputs": []
    },
    {
      "cell_type": "code",
      "source": [
        "userid = \"Kiel\"\n",
        "create_user(\"Kiel\")\n",
        "delete_all_users()\n",
        "\n"
      ],
      "metadata": {
        "colab": {
          "base_uri": "https://localhost:8080/"
        },
        "id": "34O6mboK2SFL",
        "outputId": "18ccae74-fbbb-41aa-c76b-6ea0b45c54d1"
      },
      "execution_count": null,
      "outputs": [
        {
          "output_type": "stream",
          "name": "stdout",
          "text": [
            "Successfull, Welcome: Kiel\n",
            "Successfully deleted all users\n"
          ]
        }
      ]
    },
    {
      "cell_type": "code",
      "source": [
        "def add(addend1, addend2):\n",
        "  return addend1 + addend2\n",
        "\n",
        "def power_of_base2(exponent):\n",
        "  return 5**exponent"
      ],
      "metadata": {
        "id": "BHFfTNSp3HLR"
      },
      "execution_count": null,
      "outputs": []
    },
    {
      "cell_type": "code",
      "source": [
        "#addend1, addend2 = 10 + 15\n",
        "#add(addend1, addend2)\n",
        "\n",
        "exponent = 4\n",
        "power_of_base2(exponent)"
      ],
      "metadata": {
        "colab": {
          "base_uri": "https://localhost:8080/"
        },
        "id": "3EYpzFtt3Ged",
        "outputId": "a6642592-ce81-4689-ce68-8d7903f1bf72"
      },
      "execution_count": null,
      "outputs": [
        {
          "output_type": "execute_result",
          "data": {
            "text/plain": [
              "625"
            ]
          },
          "metadata": {},
          "execution_count": 83
        }
      ]
    },
    {
      "cell_type": "markdown",
      "source": [
        "## SAMPLE CALCULATOR (SAMPLE TRIAL TO SIR AH) "
      ],
      "metadata": {
        "id": "OhqSoR0C60hG"
      }
    },
    {
      "cell_type": "code",
      "source": [
        "number_1 = float (input (\"Enter 1st number:\"))\n",
        "number_2 = float (input ('Enter 2nd number:'))\n",
        "a_operator = input ('Enter desired operation: ')\n",
        "\n",
        "def add(number_1,number_2,):\n",
        "  answer = (number_1 + number_2)\n",
        "  print (\"The answer is: {:.2f}\".format (answer) )\n",
        "\n",
        "def minus(number_1,number_2):\n",
        "  answer = (number_1 - number_2)\n",
        "  print (\"The answer is: {:.2f}\".format (answer) )\n",
        "\n",
        "def mul(number_1,number_2):\n",
        "  answer = (number_1 * number_2)\n",
        "  print (\"The answer is: {:.2f}\".format (answer) )\n",
        "\n",
        "def div(number_1,number_2):\n",
        "  answer = (number_1 / number_2)\n",
        "  print (\"The answer is: {:.2f}\".format (answer) )\n",
        "\n",
        "if a_operator == \"+\":\n",
        "  add(number_1,number_2)\n",
        "\n",
        "elif a_operator == \"-\":\n",
        "  minus(number_1,number_2)\n",
        "\n",
        "elif a_operator == \"*\":\n",
        "  mul(number_1,number_2)\n",
        "\n",
        "elif a_operator == \"/\":\n",
        "  div(number_1,number_2)\n",
        "\n",
        "else: \n",
        "  print (\"Invalid operator \")\n",
        "  \n",
        "\n",
        "#print (\"The answer is: {:.2f}\".format (answer) )\n",
        "\n"
      ],
      "metadata": {
        "colab": {
          "base_uri": "https://localhost:8080/"
        },
        "id": "83_iEm9C627u",
        "outputId": "05668259-663f-4200-d3a4-1fd4f2113500"
      },
      "execution_count": null,
      "outputs": [
        {
          "output_type": "stream",
          "name": "stdout",
          "text": [
            "Enter 1st number:12\n",
            "Enter 2nd number:8\n",
            "Enter desired operation: +\n",
            "The answer is: 20.00\n"
          ]
        }
      ]
    },
    {
      "cell_type": "markdown",
      "source": [
        "COMPLEX CALCULATOR (5 numbers)"
      ],
      "metadata": {
        "id": "945FBcfwBysM"
      }
    },
    {
      "cell_type": "code",
      "source": [
        ""
      ],
      "metadata": {
        "id": "jTH8Ydq5Cawp"
      },
      "execution_count": null,
      "outputs": []
    },
    {
      "cell_type": "markdown",
      "source": [
        "# ACTIVITY (Semestral Grade Calculator)"
      ],
      "metadata": {
        "id": "Rb06qAaBZsCQ"
      }
    },
    {
      "cell_type": "code",
      "source": [
        "name = input (\"Input your name: \")\n",
        "section = input (\"Name of the Course: \")\n",
        "pg = float(input (\"Enter Prelim Grade: \"))\n",
        "mg = float(input (\"Enter Midterm Grade: \"))\n",
        "fg = float(input (\"Enter Finals Grade: \"))\n",
        "sem_grade = pg * 0.3 + mg * 0.3 + fg * 0.4\n",
        "\n",
        "if sem_grade > 70:\n",
        "  face = \"\\U0001F600\"\n",
        "if sem_grade == 70:\n",
        "  face = \"\\U0001F606\"\n",
        "if sem_grade < 70:\n",
        "  face = \"\\U0001F62D\"\n",
        "\n",
        "\n",
        "print(\"Hello {}, \\\n",
        "\\nFrom {}, your semestral grade is: {:.2f}\\\n",
        "\\n {}\".format (name, section, sem_grade, face)) \n",
        "\n"
      ],
      "metadata": {
        "colab": {
          "base_uri": "https://localhost:8080/"
        },
        "id": "PFy8o0zR_z5b",
        "outputId": "d4e0928a-54ea-4a26-e1d3-e1321dcb51d7"
      },
      "execution_count": null,
      "outputs": [
        {
          "output_type": "stream",
          "name": "stdout",
          "text": [
            "Input your name: Kiel N. Padiernos\n",
            "Name of the Course: Oki lang pi\n",
            "Enter Prelim Grade: 90\n",
            "Enter Midterm Grade: 908\n",
            "Enter Finals Grade: 0\n",
            "Hello Kiel N. Padiernos, \n",
            "From Oki lang pi, your semestral grade is: 299.40\n",
            " 😀\n"
          ]
        }
      ]
    }
  ]
}