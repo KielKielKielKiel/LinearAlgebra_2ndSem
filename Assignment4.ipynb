{
  "nbformat": 4,
  "nbformat_minor": 0,
  "metadata": {
    "colab": {
      "name": "Assignment4.ipynb",
      "provenance": [],
      "collapsed_sections": [
        "zkBfwcoMItXJ"
      ],
      "authorship_tag": "ABX9TyN0TI4r15eOZky36HL36W5/",
      "include_colab_link": true
    },
    "kernelspec": {
      "name": "python3",
      "display_name": "Python 3"
    },
    "language_info": {
      "name": "python"
    }
  },
  "cells": [
    {
      "cell_type": "markdown",
      "metadata": {
        "id": "view-in-github",
        "colab_type": "text"
      },
      "source": [
        "<a href=\"https://colab.research.google.com/github/KielKielKielKiel/LinearAlgebra_2ndSem/blob/main/Assignment4.ipynb\" target=\"_parent\"><img src=\"https://colab.research.google.com/assets/colab-badge.svg\" alt=\"Open In Colab\"/></a>"
      ]
    },
    {
      "cell_type": "markdown",
      "source": [
        "## Linear Algebra for CHE\n",
        "## Laboratory 4 : Matrices\n"
      ],
      "metadata": {
        "id": "Qi0C6emCxxNb"
      }
    },
    {
      "cell_type": "markdown",
      "source": [
        "# Discussion"
      ],
      "metadata": {
        "id": "guIKNYg5yKz8"
      }
    },
    {
      "cell_type": "code",
      "source": [
        "import numpy as np \n",
        "import matplotlib.pyplot as plt\n",
        "import scipy.linalg as la\n",
        "%matplotlib inline"
      ],
      "metadata": {
        "id": "rBDbaPbOyMut"
      },
      "execution_count": null,
      "outputs": []
    },
    {
      "cell_type": "markdown",
      "source": [
        "**Matrices**\n",
        "\n"
      ],
      "metadata": {
        "id": "khI1YXkPy6WT"
      }
    },
    {
      "cell_type": "markdown",
      "source": [
        "$$\n",
        "A = \\left\\{\n",
        "    \\begin{array}\\\n",
        "        x + y \\\\ \n",
        "        4x - 10y\n",
        "    \\end{array}\n",
        "\\right. \\\\\n",
        "B = \\left\\{\n",
        "    \\begin{array}\\\n",
        "        x+y+z \\\\ \n",
        "        3x -2y -z \\\\\n",
        "        -x + 4y +2z\n",
        "    \\end{array}\n",
        "\\right. $$\n",
        "\n",
        "\n",
        "\n",
        "#Latex form = $$"
      ],
      "metadata": {
        "id": "FSt3to4nzzAD"
      }
    },
    {
      "cell_type": "markdown",
      "source": [
        "$$\n",
        "A = \\left\\{\n",
        "    \\begin{array}\\\n",
        "        x + y \\\\ \n",
        "        4x - 10y\n",
        "    \\end{array}\n",
        "\\right. \\\\\n",
        "B = \\left\\{\n",
        "    \\begin{array}\\\n",
        "        x+y+z \\\\ \n",
        "        3x -2y -z \\\\\n",
        "        -x + 4y +2z\n",
        "    \\end{array}\n",
        "\\right. \\\\ \n",
        "C = \\left\\{\n",
        "     \\begin{array}\\\n",
        "       3x+5y-1z \\\\\n",
        "       y+5z+4a+5b+9c \\\\\n",
        "       -43x\n",
        "      \\end{array}\\\n",
        "\\right. \\\\\n",
        "$$\n",
        "\n",
        "\n",
        "\n",
        "#Latex form = $$"
      ],
      "metadata": {
        "id": "K0k9uBnv0nfV"
      }
    },
    {
      "cell_type": "markdown",
      "source": [
        ":$$\n",
        "A=\\begin{bmatrix} 1 & 1 \\\\ 4 & {-10}\\end{bmatrix} \\\\\n",
        "B=\\begin{bmatrix} 1 & 1 & 1 \\\\ 3 & -2 & -1 \\\\ -1 & 4 & 2\\end{bmatrix} \\\\\n",
        "C=\\begin{bmatrix} 3 & 5 & -1 \\\\ 0 & 1 & 5 \\\\ -43 & 0 & 0\\end{bmatrix} \n",
        "$$\n"
      ],
      "metadata": {
        "id": "3EvqHvgA1e_s"
      }
    },
    {
      "cell_type": "markdown",
      "source": [
        "**Declaring Matrices**"
      ],
      "metadata": {
        "id": "hvyY8yd43Lli"
      }
    },
    {
      "cell_type": "markdown",
      "source": [
        "$$A=\\begin{bmatrix}\n",
        "a_{(0,0)}&a_{(0,1)}&\\dots&a_{(0,j-1)}\\\\\n",
        "a_{(1,0)}&a_{(1,1)}&\\dots&a_{(1,j-1)}\\\\\n",
        "\\vdots&\\vdots&\\ddots&\\vdots&\\\\\n",
        "a_{(i-1,0)}&a_{(i-1,1)}&\\dots&a_{(i-1,j-1)}\n",
        "\\end{bmatrix}\n",
        "$$\n"
      ],
      "metadata": {
        "id": "Wr26XjDx3tna"
      }
    },
    {
      "cell_type": "code",
      "source": [
        "## Since we'll keep on describing matrices. Let's make a function\n",
        "def describe_mat(matrix):\n",
        "  print(f'Matrix:\\n {matrix} \\n\\nShape:\\t{matrix.shape}\\nRank:\\t{matrix.ndim}\\n')"
      ],
      "metadata": {
        "id": "Tg52nfyU3y2J"
      },
      "execution_count": null,
      "outputs": []
    },
    {
      "cell_type": "code",
      "source": [
        "## Declaring a 2 x 2 matrix\n",
        "A = np.array([\n",
        "    [2, 3, 1, 10],\n",
        "    [5, 4, 9, 9]\n",
        "])\n",
        "describe_mat(A)\n"
      ],
      "metadata": {
        "colab": {
          "base_uri": "https://localhost:8080/"
        },
        "id": "j0W6H6c34Toc",
        "outputId": "2a155586-0224-432a-ff1c-659d0ea77e1e"
      },
      "execution_count": null,
      "outputs": [
        {
          "output_type": "stream",
          "name": "stdout",
          "text": [
            "Matrix:\n",
            " [[ 2  3  1 10]\n",
            " [ 5  4  9  9]] \n",
            "\n",
            "Shape:\t(2, 4)\n",
            "Rank:\t2\n",
            "\n"
          ]
        }
      ]
    },
    {
      "cell_type": "code",
      "source": [
        ""
      ],
      "metadata": {
        "id": "qHinhIOo4d93"
      },
      "execution_count": null,
      "outputs": []
    },
    {
      "cell_type": "code",
      "source": [
        "## Declaring a 3 x 2 matrix\n",
        "B = np.array([\n",
        "    [2, 3, 1, 10],\n",
        "    [5, 4, 9, 9],\n",
        "    [3, 4, 2, 1]\n",
        "])\n",
        "describe_mat(B)\n"
      ],
      "metadata": {
        "colab": {
          "base_uri": "https://localhost:8080/"
        },
        "outputId": "43a03013-5c64-4d40-908f-52b598e11292",
        "id": "j1EWn4NN6c-z"
      },
      "execution_count": null,
      "outputs": [
        {
          "output_type": "stream",
          "name": "stdout",
          "text": [
            "Matrix:\n",
            " [[ 2  3  1 10]\n",
            " [ 5  4  9  9]\n",
            " [ 3  4  2  1]] \n",
            "\n",
            "Shape:\t(3, 4)\n",
            "Rank:\t2\n",
            "\n"
          ]
        }
      ]
    },
    {
      "cell_type": "code",
      "source": [
        "H = np.array([1,2,3,4,5])\n",
        "describe_mat(H) "
      ],
      "metadata": {
        "colab": {
          "base_uri": "https://localhost:8080/"
        },
        "id": "-_RLcUH66j6O",
        "outputId": "c5b52826-0706-4412-94e1-2dc591832559"
      },
      "execution_count": null,
      "outputs": [
        {
          "output_type": "stream",
          "name": "stdout",
          "text": [
            "Matrix:\n",
            " [1 2 3 4 5] \n",
            "\n",
            "Shape:\t(5,)\n",
            "Rank:\t1\n",
            "\n"
          ]
        }
      ]
    },
    {
      "cell_type": "markdown",
      "source": [
        "#Categorizing Matrices"
      ],
      "metadata": {
        "id": "0mtEyD4x7Rlw"
      }
    },
    {
      "cell_type": "markdown",
      "source": [
        "**Row and Column Matrices**"
      ],
      "metadata": {
        "id": "VPirmzPB79wv"
      }
    },
    {
      "cell_type": "code",
      "source": [
        "## declaring a row matrices\n",
        "\n",
        "rowmatrix1 = np.array([\n",
        "      1, 2, 3                 \n",
        "]) ## this is a one dimensional comma, not a row matrix \n",
        "rowmatrix2 = np.array([\n",
        "      [1, 2, 3]                 \n",
        "]) ## a 2D Matrix with a shape of (1,3)\n",
        "describe_mat(rowmatrix1)\n",
        "describe_mat(rowmatrix2)"
      ],
      "metadata": {
        "colab": {
          "base_uri": "https://localhost:8080/"
        },
        "id": "x4ltEAgF7Ua1",
        "outputId": "4ab52b80-7108-4049-d623-a09f6e4a0587"
      },
      "execution_count": null,
      "outputs": [
        {
          "output_type": "stream",
          "name": "stdout",
          "text": [
            "Matrix:\n",
            " [1 2 3] \n",
            "\n",
            "Shape:\t(3,)\n",
            "Rank:\t1\n",
            "\n",
            "Matrix:\n",
            " [[1 2 3]] \n",
            "\n",
            "Shape:\t(1, 3)\n",
            "Rank:\t2\n",
            "\n"
          ]
        }
      ]
    },
    {
      "cell_type": "code",
      "source": [
        "## Declaring a column Matrix\n",
        "\n",
        "Colum1 = np.array([\n",
        "               [2],\n",
        "               [3]    \n",
        "]) \n",
        "describe_mat(Colum1)"
      ],
      "metadata": {
        "colab": {
          "base_uri": "https://localhost:8080/"
        },
        "id": "7fPzL_Ak7wfS",
        "outputId": "bc41d4d4-22dc-4d08-eb14-1a13de219bfa"
      },
      "execution_count": null,
      "outputs": [
        {
          "output_type": "stream",
          "name": "stdout",
          "text": [
            "Matrix:\n",
            " [[2]\n",
            " [3]] \n",
            "\n",
            "Shape:\t(2, 1)\n",
            "Rank:\t2\n",
            "\n"
          ]
        }
      ]
    },
    {
      "cell_type": "code",
      "source": [
        "rowmatrix2 = np.array([\n",
        "      [1, 2, 3]                 \n",
        "]) \n",
        "Colum1 = np.array([\n",
        "               [2],\n",
        "               [3]    \n",
        "]) \n",
        "describe_mat(Colum1) \n",
        "describe_mat(rowmatrix2)"
      ],
      "metadata": {
        "colab": {
          "base_uri": "https://localhost:8080/"
        },
        "id": "rO192AP5Cj2v",
        "outputId": "0e5815cb-15cc-4f15-9cf2-921c6cca539a"
      },
      "execution_count": null,
      "outputs": [
        {
          "output_type": "stream",
          "name": "stdout",
          "text": [
            "Matrix:\n",
            " [[2]\n",
            " [3]] \n",
            "\n",
            "Shape:\t(2, 1)\n",
            "Rank:\t2\n",
            "\n",
            "Matrix:\n",
            " [[1 2 3]] \n",
            "\n",
            "Shape:\t(1, 3)\n",
            "Rank:\t2\n",
            "\n"
          ]
        }
      ]
    },
    {
      "cell_type": "markdown",
      "source": [
        "## Square Matrix"
      ],
      "metadata": {
        "id": "SlrD21y797U9"
      }
    },
    {
      "cell_type": "code",
      "source": [
        "\n",
        "def describe_mat(matrix):\n",
        "  is_square = True if matrix.shape[0] == matrix.shape[1] else False\n",
        "  print(f'Matrix:\\n {matrix} \\n\\nShape:\\t{matrix.shape}\\nRank:\\t{matrix.ndim}\\nIs Square:{is_square}\\n')"
      ],
      "metadata": {
        "id": "kx-Pc7K1-H-o"
      },
      "execution_count": null,
      "outputs": []
    },
    {
      "cell_type": "code",
      "source": [
        "square_mat = np. array ([\n",
        "        [1, 2],\n",
        "        [3, 4]\n",
        "])\n",
        "\n",
        "non_s_m = np.array ([\n",
        "         [1, 2],\n",
        "         [3, 5],\n",
        "         [5, 6]            \n",
        "])\n",
        "describe_mat(square_mat)\n",
        "describe_mat(non_s_m)"
      ],
      "metadata": {
        "colab": {
          "base_uri": "https://localhost:8080/"
        },
        "id": "z6PWtqV3-lGP",
        "outputId": "add44883-fcf6-4054-e812-f756c3959256"
      },
      "execution_count": null,
      "outputs": [
        {
          "output_type": "stream",
          "name": "stdout",
          "text": [
            "Matrix:\n",
            " [[1 2]\n",
            " [3 4]] \n",
            "\n",
            "Shape:\t(2, 2)\n",
            "Rank:\t2\n",
            "Is Square:True\n",
            "\n",
            "Matrix:\n",
            " [[1 2]\n",
            " [3 5]\n",
            " [5 6]] \n",
            "\n",
            "Shape:\t(3, 2)\n",
            "Rank:\t2\n",
            "Is Square:False\n",
            "\n"
          ]
        }
      ]
    },
    {
      "cell_type": "markdown",
      "source": [
        "According to elemental values"
      ],
      "metadata": {
        "id": "B1z3XQ7GBHf-"
      }
    },
    {
      "cell_type": "markdown",
      "source": [
        "# Null matrix"
      ],
      "metadata": {
        "id": "jrpmr2roBWem"
      }
    },
    {
      "cell_type": "code",
      "source": [
        "def describe_mat(matrix):\n",
        "  if matrix.size > 0:\n",
        "    is_square = True if matrix.shape[0] == matrix.shape[1] else False\n",
        "    print(f'Matrix:\\n {matrix} \\n\\nShape:\\t{matrix.shape}\\nRank:\\t{matrix.ndim}\\nIs.Square:{is_square}\\n')\n",
        "  else:\n",
        "    print('Matrix is NULL')"
      ],
      "metadata": {
        "id": "FdALDs1hBdYb"
      },
      "execution_count": null,
      "outputs": []
    },
    {
      "cell_type": "code",
      "source": [
        "nnull_matrix = np.array([ 0,2,3 ])\n",
        "describe_mat (nnull_matrix)"
      ],
      "metadata": {
        "colab": {
          "base_uri": "https://localhost:8080/",
          "height": 304
        },
        "id": "WqAmM6uaVrvX",
        "outputId": "117ed407-02a6-4183-a39a-85c4aa187cee"
      },
      "execution_count": null,
      "outputs": [
        {
          "output_type": "error",
          "ename": "IndexError",
          "evalue": "ignored",
          "traceback": [
            "\u001b[0;31m---------------------------------------------------------------------------\u001b[0m",
            "\u001b[0;31mIndexError\u001b[0m                                Traceback (most recent call last)",
            "\u001b[0;32m<ipython-input-19-9345bdf3646f>\u001b[0m in \u001b[0;36m<module>\u001b[0;34m()\u001b[0m\n\u001b[1;32m      1\u001b[0m \u001b[0mnnull_matrix\u001b[0m \u001b[0;34m=\u001b[0m \u001b[0mnp\u001b[0m\u001b[0;34m.\u001b[0m\u001b[0marray\u001b[0m\u001b[0;34m(\u001b[0m\u001b[0;34m[\u001b[0m \u001b[0;36m0\u001b[0m\u001b[0;34m,\u001b[0m\u001b[0;36m2\u001b[0m\u001b[0;34m,\u001b[0m\u001b[0;36m3\u001b[0m \u001b[0;34m]\u001b[0m\u001b[0;34m)\u001b[0m\u001b[0;34m\u001b[0m\u001b[0;34m\u001b[0m\u001b[0m\n\u001b[0;32m----> 2\u001b[0;31m \u001b[0mdescribe_mat\u001b[0m \u001b[0;34m(\u001b[0m\u001b[0mnnull_matrix\u001b[0m\u001b[0;34m)\u001b[0m\u001b[0;34m\u001b[0m\u001b[0;34m\u001b[0m\u001b[0m\n\u001b[0m",
            "\u001b[0;32m<ipython-input-17-5498d29577e1>\u001b[0m in \u001b[0;36mdescribe_mat\u001b[0;34m(matrix)\u001b[0m\n\u001b[1;32m      1\u001b[0m \u001b[0;32mdef\u001b[0m \u001b[0mdescribe_mat\u001b[0m\u001b[0;34m(\u001b[0m\u001b[0mmatrix\u001b[0m\u001b[0;34m)\u001b[0m\u001b[0;34m:\u001b[0m\u001b[0;34m\u001b[0m\u001b[0;34m\u001b[0m\u001b[0m\n\u001b[1;32m      2\u001b[0m   \u001b[0;32mif\u001b[0m \u001b[0mmatrix\u001b[0m\u001b[0;34m.\u001b[0m\u001b[0msize\u001b[0m \u001b[0;34m>\u001b[0m \u001b[0;36m0\u001b[0m\u001b[0;34m:\u001b[0m\u001b[0;34m\u001b[0m\u001b[0;34m\u001b[0m\u001b[0m\n\u001b[0;32m----> 3\u001b[0;31m     \u001b[0mis_square\u001b[0m \u001b[0;34m=\u001b[0m \u001b[0;32mTrue\u001b[0m \u001b[0;32mif\u001b[0m \u001b[0mmatrix\u001b[0m\u001b[0;34m.\u001b[0m\u001b[0mshape\u001b[0m\u001b[0;34m[\u001b[0m\u001b[0;36m0\u001b[0m\u001b[0;34m]\u001b[0m \u001b[0;34m==\u001b[0m \u001b[0mmatrix\u001b[0m\u001b[0;34m.\u001b[0m\u001b[0mshape\u001b[0m\u001b[0;34m[\u001b[0m\u001b[0;36m1\u001b[0m\u001b[0;34m]\u001b[0m \u001b[0;32melse\u001b[0m \u001b[0;32mFalse\u001b[0m\u001b[0;34m\u001b[0m\u001b[0;34m\u001b[0m\u001b[0m\n\u001b[0m\u001b[1;32m      4\u001b[0m     \u001b[0mprint\u001b[0m\u001b[0;34m(\u001b[0m\u001b[0;34mf'Matrix:\\n {matrix} \\n\\nShape:\\t{matrix.shape}\\nRank:\\t{matrix.ndim}\\nIs.Square:{is_square}\\n'\u001b[0m\u001b[0;34m)\u001b[0m\u001b[0;34m\u001b[0m\u001b[0;34m\u001b[0m\u001b[0m\n\u001b[1;32m      5\u001b[0m   \u001b[0;32melse\u001b[0m\u001b[0;34m:\u001b[0m\u001b[0;34m\u001b[0m\u001b[0;34m\u001b[0m\u001b[0m\n",
            "\u001b[0;31mIndexError\u001b[0m: tuple index out of range"
          ]
        }
      ]
    },
    {
      "cell_type": "code",
      "source": [
        "null_matrix = np.array ([])\n",
        "describe_mat(null_matrix)"
      ],
      "metadata": {
        "colab": {
          "base_uri": "https://localhost:8080/"
        },
        "id": "L4HqJPYr_d94",
        "outputId": "a1f7fb42-576d-4015-f071-ffff12b93518"
      },
      "execution_count": null,
      "outputs": [
        {
          "output_type": "stream",
          "name": "stdout",
          "text": [
            "Matrix is NULL\n"
          ]
        }
      ]
    },
    {
      "cell_type": "markdown",
      "source": [
        "**Zero Matrix**"
      ],
      "metadata": {
        "id": "hAjx3lUfCbvC"
      }
    },
    {
      "cell_type": "code",
      "source": [
        "zero_matr = np.zeros((3,22))\n",
        "zero_mats = np.zeros((5,32))\n",
        "zero_matrct = np.zeros((10,20))\n",
        "\n",
        "print(f'Zero Row Matrix 1: \\n {zero_matr}')\n",
        "print(f'Zero Row Matrix 2: \\n {zero_mats}')\n",
        "print(f'Zero Row Matrix 3: \\n {zero_matrct}')"
      ],
      "metadata": {
        "colab": {
          "base_uri": "https://localhost:8080/"
        },
        "id": "rPYMLw0HCgPY",
        "outputId": "6dacc2b3-9c5c-4394-98d8-7395a7338b0b"
      },
      "execution_count": null,
      "outputs": [
        {
          "output_type": "stream",
          "name": "stdout",
          "text": [
            "Zero Row Matrix 1: \n",
            " [[0. 0. 0. 0. 0. 0. 0. 0. 0. 0. 0. 0. 0. 0. 0. 0. 0. 0. 0. 0. 0. 0.]\n",
            " [0. 0. 0. 0. 0. 0. 0. 0. 0. 0. 0. 0. 0. 0. 0. 0. 0. 0. 0. 0. 0. 0.]\n",
            " [0. 0. 0. 0. 0. 0. 0. 0. 0. 0. 0. 0. 0. 0. 0. 0. 0. 0. 0. 0. 0. 0.]]\n",
            "Zero Row Matrix 2: \n",
            " [[0. 0. 0. 0. 0. 0. 0. 0. 0. 0. 0. 0. 0. 0. 0. 0. 0. 0. 0. 0. 0. 0. 0. 0.\n",
            "  0. 0. 0. 0. 0. 0. 0. 0.]\n",
            " [0. 0. 0. 0. 0. 0. 0. 0. 0. 0. 0. 0. 0. 0. 0. 0. 0. 0. 0. 0. 0. 0. 0. 0.\n",
            "  0. 0. 0. 0. 0. 0. 0. 0.]\n",
            " [0. 0. 0. 0. 0. 0. 0. 0. 0. 0. 0. 0. 0. 0. 0. 0. 0. 0. 0. 0. 0. 0. 0. 0.\n",
            "  0. 0. 0. 0. 0. 0. 0. 0.]\n",
            " [0. 0. 0. 0. 0. 0. 0. 0. 0. 0. 0. 0. 0. 0. 0. 0. 0. 0. 0. 0. 0. 0. 0. 0.\n",
            "  0. 0. 0. 0. 0. 0. 0. 0.]\n",
            " [0. 0. 0. 0. 0. 0. 0. 0. 0. 0. 0. 0. 0. 0. 0. 0. 0. 0. 0. 0. 0. 0. 0. 0.\n",
            "  0. 0. 0. 0. 0. 0. 0. 0.]]\n",
            "Zero Row Matrix 3: \n",
            " [[0. 0. 0. 0. 0. 0. 0. 0. 0. 0. 0. 0. 0. 0. 0. 0. 0. 0. 0. 0.]\n",
            " [0. 0. 0. 0. 0. 0. 0. 0. 0. 0. 0. 0. 0. 0. 0. 0. 0. 0. 0. 0.]\n",
            " [0. 0. 0. 0. 0. 0. 0. 0. 0. 0. 0. 0. 0. 0. 0. 0. 0. 0. 0. 0.]\n",
            " [0. 0. 0. 0. 0. 0. 0. 0. 0. 0. 0. 0. 0. 0. 0. 0. 0. 0. 0. 0.]\n",
            " [0. 0. 0. 0. 0. 0. 0. 0. 0. 0. 0. 0. 0. 0. 0. 0. 0. 0. 0. 0.]\n",
            " [0. 0. 0. 0. 0. 0. 0. 0. 0. 0. 0. 0. 0. 0. 0. 0. 0. 0. 0. 0.]\n",
            " [0. 0. 0. 0. 0. 0. 0. 0. 0. 0. 0. 0. 0. 0. 0. 0. 0. 0. 0. 0.]\n",
            " [0. 0. 0. 0. 0. 0. 0. 0. 0. 0. 0. 0. 0. 0. 0. 0. 0. 0. 0. 0.]\n",
            " [0. 0. 0. 0. 0. 0. 0. 0. 0. 0. 0. 0. 0. 0. 0. 0. 0. 0. 0. 0.]\n",
            " [0. 0. 0. 0. 0. 0. 0. 0. 0. 0. 0. 0. 0. 0. 0. 0. 0. 0. 0. 0.]]\n"
          ]
        }
      ]
    },
    {
      "cell_type": "markdown",
      "source": [
        "**Ones Matrix**"
      ],
      "metadata": {
        "id": "_DG6Ml_eDr_m"
      }
    },
    {
      "cell_type": "code",
      "source": [
        "one_matr = np.ones((3,22))\n",
        "one_mats = np.ones((5,4))\n",
        "one_matrct = np.ones((10,20))\n",
        "\n",
        "print(f'One Row Matrix 1: \\n {one_matr}')\n",
        "print(f'One Row Matrix 2: \\n {one_mats}')\n",
        "print(f'One Row Matrix 3: \\n {one_matrct}')"
      ],
      "metadata": {
        "colab": {
          "base_uri": "https://localhost:8080/"
        },
        "outputId": "b5e02462-5479-43c2-afc0-ff54a2e3581e",
        "id": "Vtc8ZkgmDxgu"
      },
      "execution_count": null,
      "outputs": [
        {
          "output_type": "stream",
          "name": "stdout",
          "text": [
            "One Row Matrix 1: \n",
            " [[1. 1. 1. 1. 1. 1. 1. 1. 1. 1. 1. 1. 1. 1. 1. 1. 1. 1. 1. 1. 1. 1.]\n",
            " [1. 1. 1. 1. 1. 1. 1. 1. 1. 1. 1. 1. 1. 1. 1. 1. 1. 1. 1. 1. 1. 1.]\n",
            " [1. 1. 1. 1. 1. 1. 1. 1. 1. 1. 1. 1. 1. 1. 1. 1. 1. 1. 1. 1. 1. 1.]]\n",
            "One Row Matrix 2: \n",
            " [[1. 1. 1. 1.]\n",
            " [1. 1. 1. 1.]\n",
            " [1. 1. 1. 1.]\n",
            " [1. 1. 1. 1.]\n",
            " [1. 1. 1. 1.]]\n",
            "One Row Matrix 3: \n",
            " [[1. 1. 1. 1. 1. 1. 1. 1. 1. 1. 1. 1. 1. 1. 1. 1. 1. 1. 1. 1.]\n",
            " [1. 1. 1. 1. 1. 1. 1. 1. 1. 1. 1. 1. 1. 1. 1. 1. 1. 1. 1. 1.]\n",
            " [1. 1. 1. 1. 1. 1. 1. 1. 1. 1. 1. 1. 1. 1. 1. 1. 1. 1. 1. 1.]\n",
            " [1. 1. 1. 1. 1. 1. 1. 1. 1. 1. 1. 1. 1. 1. 1. 1. 1. 1. 1. 1.]\n",
            " [1. 1. 1. 1. 1. 1. 1. 1. 1. 1. 1. 1. 1. 1. 1. 1. 1. 1. 1. 1.]\n",
            " [1. 1. 1. 1. 1. 1. 1. 1. 1. 1. 1. 1. 1. 1. 1. 1. 1. 1. 1. 1.]\n",
            " [1. 1. 1. 1. 1. 1. 1. 1. 1. 1. 1. 1. 1. 1. 1. 1. 1. 1. 1. 1.]\n",
            " [1. 1. 1. 1. 1. 1. 1. 1. 1. 1. 1. 1. 1. 1. 1. 1. 1. 1. 1. 1.]\n",
            " [1. 1. 1. 1. 1. 1. 1. 1. 1. 1. 1. 1. 1. 1. 1. 1. 1. 1. 1. 1.]\n",
            " [1. 1. 1. 1. 1. 1. 1. 1. 1. 1. 1. 1. 1. 1. 1. 1. 1. 1. 1. 1.]]\n"
          ]
        }
      ]
    },
    {
      "cell_type": "markdown",
      "source": [
        "**Diagonal Matrix**\n"
      ],
      "metadata": {
        "id": "KQHLp8hfEn4I"
      }
    },
    {
      "cell_type": "code",
      "source": [
        "np.array ([\n",
        "           [3,0,0],\n",
        "           [0,4,0],\n",
        "           [0,0,5]\n",
        "])"
      ],
      "metadata": {
        "colab": {
          "base_uri": "https://localhost:8080/"
        },
        "id": "4O9KPzhmErCd",
        "outputId": "63df3ef2-570a-443e-bdf1-5d91314ad685"
      },
      "execution_count": null,
      "outputs": [
        {
          "output_type": "execute_result",
          "data": {
            "text/plain": [
              "array([[3, 0, 0],\n",
              "       [0, 4, 0],\n",
              "       [0, 0, 5]])"
            ]
          },
          "metadata": {},
          "execution_count": 52
        }
      ]
    },
    {
      "cell_type": "code",
      "source": [
        "diag = np.diag ([4,5,6,7,8,9,20])\n",
        "diag.shape[0] == diag.shape[1]\n",
        "diag"
      ],
      "metadata": {
        "colab": {
          "base_uri": "https://localhost:8080/"
        },
        "id": "zD_VwnxBE5Jp",
        "outputId": "66fcd381-f1a4-46a1-a150-4f1768bdfa05"
      },
      "execution_count": null,
      "outputs": [
        {
          "output_type": "execute_result",
          "data": {
            "text/plain": [
              "array([[ 4,  0,  0,  0,  0,  0,  0],\n",
              "       [ 0,  5,  0,  0,  0,  0,  0],\n",
              "       [ 0,  0,  6,  0,  0,  0,  0],\n",
              "       [ 0,  0,  0,  7,  0,  0,  0],\n",
              "       [ 0,  0,  0,  0,  8,  0,  0],\n",
              "       [ 0,  0,  0,  0,  0,  9,  0],\n",
              "       [ 0,  0,  0,  0,  0,  0, 20]])"
            ]
          },
          "metadata": {},
          "execution_count": 56
        }
      ]
    },
    {
      "cell_type": "markdown",
      "source": [
        "**Identity Matrix**"
      ],
      "metadata": {
        "id": "8dgsfiKYF17k"
      }
    },
    {
      "cell_type": "code",
      "source": [
        "np.eye(4)"
      ],
      "metadata": {
        "colab": {
          "base_uri": "https://localhost:8080/"
        },
        "id": "2DLcjM3XF5Qj",
        "outputId": "f32a6adb-527c-4521-e077-d2c925fea052"
      },
      "execution_count": null,
      "outputs": [
        {
          "output_type": "execute_result",
          "data": {
            "text/plain": [
              "array([[1., 0., 0., 0.],\n",
              "       [0., 1., 0., 0.],\n",
              "       [0., 0., 1., 0.],\n",
              "       [0., 0., 0., 1.]])"
            ]
          },
          "metadata": {},
          "execution_count": 57
        }
      ]
    },
    {
      "cell_type": "code",
      "source": [
        "np.identity(15)"
      ],
      "metadata": {
        "colab": {
          "base_uri": "https://localhost:8080/"
        },
        "id": "z2pQ4O1vF8R7",
        "outputId": "44970fe8-ff84-4083-f4f1-f7a52c2433aa"
      },
      "execution_count": null,
      "outputs": [
        {
          "output_type": "execute_result",
          "data": {
            "text/plain": [
              "array([[1., 0., 0., 0., 0., 0., 0., 0., 0., 0., 0., 0., 0., 0., 0.],\n",
              "       [0., 1., 0., 0., 0., 0., 0., 0., 0., 0., 0., 0., 0., 0., 0.],\n",
              "       [0., 0., 1., 0., 0., 0., 0., 0., 0., 0., 0., 0., 0., 0., 0.],\n",
              "       [0., 0., 0., 1., 0., 0., 0., 0., 0., 0., 0., 0., 0., 0., 0.],\n",
              "       [0., 0., 0., 0., 1., 0., 0., 0., 0., 0., 0., 0., 0., 0., 0.],\n",
              "       [0., 0., 0., 0., 0., 1., 0., 0., 0., 0., 0., 0., 0., 0., 0.],\n",
              "       [0., 0., 0., 0., 0., 0., 1., 0., 0., 0., 0., 0., 0., 0., 0.],\n",
              "       [0., 0., 0., 0., 0., 0., 0., 1., 0., 0., 0., 0., 0., 0., 0.],\n",
              "       [0., 0., 0., 0., 0., 0., 0., 0., 1., 0., 0., 0., 0., 0., 0.],\n",
              "       [0., 0., 0., 0., 0., 0., 0., 0., 0., 1., 0., 0., 0., 0., 0.],\n",
              "       [0., 0., 0., 0., 0., 0., 0., 0., 0., 0., 1., 0., 0., 0., 0.],\n",
              "       [0., 0., 0., 0., 0., 0., 0., 0., 0., 0., 0., 1., 0., 0., 0.],\n",
              "       [0., 0., 0., 0., 0., 0., 0., 0., 0., 0., 0., 0., 1., 0., 0.],\n",
              "       [0., 0., 0., 0., 0., 0., 0., 0., 0., 0., 0., 0., 0., 1., 0.],\n",
              "       [0., 0., 0., 0., 0., 0., 0., 0., 0., 0., 0., 0., 0., 0., 1.]])"
            ]
          },
          "metadata": {},
          "execution_count": 59
        }
      ]
    },
    {
      "cell_type": "markdown",
      "source": [
        "** Upper Triangular Matrix **"
      ],
      "metadata": {
        "id": "BBa4QVOiGcZZ"
      }
    },
    {
      "cell_type": "code",
      "source": [
        "np.array ([\n",
        "           [10,9,8,1,5],\n",
        "           [0,6,5,1,4],\n",
        "           [0,0,3,1,3],\n",
        "           [0,0,0,1,2],\n",
        "           [0,0,0,0,1]\n",
        "])"
      ],
      "metadata": {
        "colab": {
          "base_uri": "https://localhost:8080/"
        },
        "id": "8X9G8n-tGfth",
        "outputId": "df3d6837-fd48-4318-d35d-9ddef2e0c3ec"
      },
      "execution_count": null,
      "outputs": [
        {
          "output_type": "execute_result",
          "data": {
            "text/plain": [
              "array([[10,  9,  8,  1,  5],\n",
              "       [ 0,  6,  5,  1,  4],\n",
              "       [ 0,  0,  3,  1,  3],\n",
              "       [ 0,  0,  0,  1,  2],\n",
              "       [ 0,  0,  0,  0,  1]])"
            ]
          },
          "metadata": {},
          "execution_count": 62
        }
      ]
    },
    {
      "cell_type": "markdown",
      "source": [
        "**Lower Triangle Matrix**"
      ],
      "metadata": {
        "id": "8re2OCDaG5vJ"
      }
    },
    {
      "cell_type": "code",
      "source": [
        "np.array ([\n",
        "       [1,2,3,4,0],\n",
        "       [2,3,4,0,0],\n",
        "       [1,2,0,0,0],\n",
        "       [1,0,0,0,0]   \n",
        "\n",
        "])"
      ],
      "metadata": {
        "colab": {
          "base_uri": "https://localhost:8080/"
        },
        "id": "TVGHk6D2HANB",
        "outputId": "46e92073-3bb5-4a71-c711-9875ba4c263c"
      },
      "execution_count": null,
      "outputs": [
        {
          "output_type": "execute_result",
          "data": {
            "text/plain": [
              "array([[1, 2, 3, 4, 0],\n",
              "       [2, 3, 4, 0, 0],\n",
              "       [1, 2, 0, 0, 0],\n",
              "       [1, 0, 0, 0, 0]])"
            ]
          },
          "metadata": {},
          "execution_count": 63
        }
      ]
    },
    {
      "cell_type": "code",
      "source": [
        "G = np.array([\n",
        "    [1,7,8],\n",
        "    [2,2,2],\n",
        "    [4,6,7]\n",
        "])\n",
        "\n",
        "I = np.triu(G)\n",
        "J = np.tril(G)\n",
        "I"
      ],
      "metadata": {
        "colab": {
          "base_uri": "https://localhost:8080/"
        },
        "id": "0zYM_LcOOhfZ",
        "outputId": "78eaad1d-8777-4087-a18c-c7724f3605ff"
      },
      "execution_count": null,
      "outputs": [
        {
          "output_type": "execute_result",
          "data": {
            "text/plain": [
              "array([[1, 7, 8],\n",
              "       [0, 2, 2],\n",
              "       [0, 0, 7]])"
            ]
          },
          "metadata": {},
          "execution_count": 12
        }
      ]
    },
    {
      "cell_type": "code",
      "source": [
        "J"
      ],
      "metadata": {
        "colab": {
          "base_uri": "https://localhost:8080/"
        },
        "id": "kjT6oN6WOx7e",
        "outputId": "5100406e-6807-41d0-b0e6-39ba8056eb65"
      },
      "execution_count": null,
      "outputs": [
        {
          "output_type": "execute_result",
          "data": {
            "text/plain": [
              "array([[1, 0, 0],\n",
              "       [2, 2, 0],\n",
              "       [4, 6, 7]])"
            ]
          },
          "metadata": {},
          "execution_count": 13
        }
      ]
    },
    {
      "cell_type": "markdown",
      "source": [
        "### Activity"
      ],
      "metadata": {
        "id": "zkBfwcoMItXJ"
      }
    },
    {
      "cell_type": "markdown",
      "source": [
        "1. Given the linear combination below, try to create a corresponding matrix representing it.\n"
      ],
      "metadata": {
        "id": "i9LP_RO2HwG2"
      }
    },
    {
      "cell_type": "markdown",
      "source": [
        ":$$\\theta = 5x + 3y - z$$\n"
      ],
      "metadata": {
        "id": "N19gyC_aHs_P"
      }
    },
    {
      "cell_type": "markdown",
      "source": [
        "$$\n",
        "\\theta = \\begin{bmatrix} 5  &  3 & -1\\end{bmatrix} \\\\\n",
        "$$"
      ],
      "metadata": {
        "id": "oaldIGOp3qgh"
      }
    },
    {
      "cell_type": "code",
      "source": [
        "A1 = np.array ([5, 3, -1 ])\n",
        "A1"
      ],
      "metadata": {
        "colab": {
          "base_uri": "https://localhost:8080/"
        },
        "id": "R7qDu6Xp39CU",
        "outputId": "bc577f61-33e4-46fd-d4fa-295e66d46038"
      },
      "execution_count": null,
      "outputs": [
        {
          "output_type": "execute_result",
          "data": {
            "text/plain": [
              "array([ 5,  3, -1])"
            ]
          },
          "metadata": {},
          "execution_count": 5
        }
      ]
    },
    {
      "cell_type": "markdown",
      "source": [
        "2. Given the system of linear combinations below, try to encode it as a matrix. Also describe the matrix.\n"
      ],
      "metadata": {
        "id": "5mSZBThNIl4C"
      }
    },
    {
      "cell_type": "markdown",
      "source": [
        "$$\n",
        "A = \\left\\{\\begin{array}\n",
        "5x_1 + 2x_2 +x_3\\\\\n",
        "4x_2 - x_3\\\\\n",
        "10x_3\n",
        "\\end{array}\\right.\n",
        "$$\n"
      ],
      "metadata": {
        "id": "Ks8Dwgl6H2L7"
      }
    },
    {
      "cell_type": "markdown",
      "source": [
        "$$\n",
        "A = \\begin{bmatrix} 1 & 2 & 1 \\\\ 0 & 4 & -1 \\\\ 0 & 0 & 10\\end{bmatrix} \\\\\n",
        "$$\n",
        "\n",
        "The matrix is square, with a rank of 2. It has a shape of (3, 3). It is also an upper triangular matrix.\n",
        "\n"
      ],
      "metadata": {
        "id": "3tpbn8U-6a06"
      }
    },
    {
      "cell_type": "markdown",
      "source": [
        "3. Given the matrix below, express it as a linear combination in a markdown and a LaTeX markdown\n"
      ],
      "metadata": {
        "id": "2rwtcU_DIss8"
      }
    },
    {
      "cell_type": "code",
      "source": [
        "G = np.array([\n",
        "    [1,7,8],\n",
        "    [2,2,2],\n",
        "    [4,6,7]\n",
        "])\n"
      ],
      "metadata": {
        "id": "XF5oTWtWIxog"
      },
      "execution_count": null,
      "outputs": []
    },
    {
      "cell_type": "markdown",
      "source": [
        "$$\n",
        "A = \\left\\{\\begin{array}\n",
        "5x_1 + 7x_2 + 8x_3\\\\\n",
        "2x_1 + 2x_2 + 2x_3\\\\\n",
        "4x_1 + 6x_2 + 7x_3\n",
        "\\end{array}\\right.\n",
        "$$"
      ],
      "metadata": {
        "id": "fVWLsTML5o0C"
      }
    },
    {
      "cell_type": "markdown",
      "source": [
        "4. Given the matrix below, display the output as a LaTeX markdown also express it as a system of linear combinations.\n"
      ],
      "metadata": {
        "id": "GePzbEJuIy3I"
      }
    },
    {
      "cell_type": "code",
      "source": [
        "H = np.tril(G)\n",
        "H  ##lower tri [np.triu] for upper\n"
      ],
      "metadata": {
        "colab": {
          "base_uri": "https://localhost:8080/"
        },
        "id": "ONg32YRYI1xB",
        "outputId": "30c28799-e6fb-49e0-b828-97537b010170"
      },
      "execution_count": null,
      "outputs": [
        {
          "output_type": "execute_result",
          "data": {
            "text/plain": [
              "array([[1, 0, 0],\n",
              "       [2, 2, 0],\n",
              "       [4, 6, 7]])"
            ]
          },
          "metadata": {},
          "execution_count": 66
        }
      ]
    },
    {
      "cell_type": "markdown",
      "source": [
        "$$\n",
        "A = \\left\\{\\begin{array}\n",
        "5x_1 \\\\\n",
        "2x_1 + 2x_2 \\\\\n",
        "4x_1 + 6x_2 + 7x_3\n",
        "\\end{array}\\right.\n",
        "$$"
      ],
      "metadata": {
        "id": "aZIDxN5Z6E5y"
      }
    },
    {
      "cell_type": "markdown",
      "source": [
        "**Addition**"
      ],
      "metadata": {
        "id": "Pihg8XdCI6F3"
      }
    },
    {
      "cell_type": "code",
      "source": [
        "A = np.array ([\n",
        "              [1,2],\n",
        "              [4,5]\n",
        "])\n",
        "B = np.array ([\n",
        "              [1,2],\n",
        "              [3,4]\n",
        "])\n",
        "A+B"
      ],
      "metadata": {
        "colab": {
          "base_uri": "https://localhost:8080/"
        },
        "id": "DqduTuYaJWXm",
        "outputId": "6903b734-77bb-48e2-88be-0d1cecbb444f"
      },
      "execution_count": null,
      "outputs": [
        {
          "output_type": "execute_result",
          "data": {
            "text/plain": [
              "array([[2, 4],\n",
              "       [7, 9]])"
            ]
          },
          "metadata": {},
          "execution_count": 6
        }
      ]
    },
    {
      "cell_type": "code",
      "source": [
        "Summm = np.add(A, B) \n",
        "Summm"
      ],
      "metadata": {
        "id": "yIQrTposJuSD",
        "colab": {
          "base_uri": "https://localhost:8080/"
        },
        "outputId": "87f1d81a-c201-45d0-ed84-63b08e6a98cc"
      },
      "execution_count": null,
      "outputs": [
        {
          "output_type": "execute_result",
          "data": {
            "text/plain": [
              "array([[2, 4],\n",
              "       [7, 9]])"
            ]
          },
          "metadata": {},
          "execution_count": 16
        }
      ]
    },
    {
      "cell_type": "code",
      "source": [
        "A = np.array ([\n",
        "              [1,2],\n",
        "              [4,5]\n",
        "])\n",
        "10+A ## broadcasting"
      ],
      "metadata": {
        "colab": {
          "base_uri": "https://localhost:8080/"
        },
        "outputId": "806b75f8-bf4b-41b3-a599-066708d2d498",
        "id": "UfBmPpaTJw4L"
      },
      "execution_count": null,
      "outputs": [
        {
          "output_type": "execute_result",
          "data": {
            "text/plain": [
              "array([[11, 12],\n",
              "       [14, 15]])"
            ]
          },
          "metadata": {},
          "execution_count": 69
        }
      ]
    },
    {
      "cell_type": "markdown",
      "source": [
        "** Subraction**"
      ],
      "metadata": {
        "id": "QGzYagH0J4Te"
      }
    },
    {
      "cell_type": "code",
      "source": [
        "A = np.array ([\n",
        "              [1,2],\n",
        "              [4,5]\n",
        "])\n",
        "B = np.array ([\n",
        "              [1,2],\n",
        "              [3,4]\n",
        "])\n",
        "A-B"
      ],
      "metadata": {
        "colab": {
          "base_uri": "https://localhost:8080/"
        },
        "outputId": "ee47a231-51c2-4c0e-ff7b-fe45a0412027",
        "id": "1VRLBVnHJ80O"
      },
      "execution_count": null,
      "outputs": [
        {
          "output_type": "execute_result",
          "data": {
            "text/plain": [
              "array([[0, 0],\n",
              "       [1, 1]])"
            ]
          },
          "metadata": {},
          "execution_count": 70
        }
      ]
    },
    {
      "cell_type": "code",
      "source": [
        "Difff = np.subtract(A, B)\n",
        "Difff"
      ],
      "metadata": {
        "colab": {
          "base_uri": "https://localhost:8080/"
        },
        "id": "8cvgsocbQq5i",
        "outputId": "8621b87d-6e3d-4de0-fa12-8e5bceacb1dd"
      },
      "execution_count": null,
      "outputs": [
        {
          "output_type": "execute_result",
          "data": {
            "text/plain": [
              "array([[0, 0],\n",
              "       [1, 1]])"
            ]
          },
          "metadata": {},
          "execution_count": 17
        }
      ]
    },
    {
      "cell_type": "code",
      "source": [
        "A = np.array ([\n",
        "              [1,2],\n",
        "              [4,5]\n",
        "])\n",
        "B = np.array ([\n",
        "              [1,2],\n",
        "              [3,4]\n",
        "])\n",
        "3-B+A"
      ],
      "metadata": {
        "colab": {
          "base_uri": "https://localhost:8080/"
        },
        "outputId": "b2e93c8f-70a8-41d4-ccf5-e38093fe18ed",
        "id": "LNd6nq-YKAU6"
      },
      "execution_count": null,
      "outputs": [
        {
          "output_type": "execute_result",
          "data": {
            "text/plain": [
              "array([[3, 3],\n",
              "       [4, 4]])"
            ]
          },
          "metadata": {},
          "execution_count": 71
        }
      ]
    },
    {
      "cell_type": "markdown",
      "source": [
        "##Element-Wise Multiplication"
      ],
      "metadata": {
        "id": "GoXO-vFRKL_U"
      }
    },
    {
      "cell_type": "code",
      "source": [
        "A*B\n",
        "np.multiply(A,B)"
      ],
      "metadata": {
        "colab": {
          "base_uri": "https://localhost:8080/"
        },
        "outputId": "90c1bb38-7723-4984-ef68-a32d875f1b10",
        "id": "kp81MfRWKPJL"
      },
      "execution_count": null,
      "outputs": [
        {
          "output_type": "execute_result",
          "data": {
            "text/plain": [
              "array([[ 1,  4],\n",
              "       [12, 20]])"
            ]
          },
          "metadata": {},
          "execution_count": 73
        }
      ]
    },
    {
      "cell_type": "code",
      "source": [
        "2*A"
      ],
      "metadata": {
        "colab": {
          "base_uri": "https://localhost:8080/"
        },
        "id": "SODb1z0gKVx1",
        "outputId": "b74eaf4a-302c-49e8-84c7-41ccaaf1da64"
      },
      "execution_count": null,
      "outputs": [
        {
          "output_type": "execute_result",
          "data": {
            "text/plain": [
              "array([[ 2,  4],\n",
              "       [ 8, 10]])"
            ]
          },
          "metadata": {},
          "execution_count": 74
        }
      ]
    },
    {
      "cell_type": "code",
      "source": [
        "np.divide(A,B)\n"
      ],
      "metadata": {
        "colab": {
          "base_uri": "https://localhost:8080/"
        },
        "id": "5mYL1c5wKJGA",
        "outputId": "132d6c0e-006a-4399-a294-1b77038c988e"
      },
      "execution_count": null,
      "outputs": [
        {
          "output_type": "execute_result",
          "data": {
            "text/plain": [
              "array([[1.        , 1.        ],\n",
              "       [1.33333333, 1.25      ]])"
            ]
          },
          "metadata": {},
          "execution_count": 8
        }
      ]
    },
    {
      "cell_type": "code",
      "source": [
        "A/B"
      ],
      "metadata": {
        "colab": {
          "base_uri": "https://localhost:8080/"
        },
        "id": "RuGmj5iNKUsY",
        "outputId": "03fc7173-a7e2-4074-f601-3169eba6e09d"
      },
      "execution_count": null,
      "outputs": [
        {
          "output_type": "execute_result",
          "data": {
            "text/plain": [
              "array([[1.        , 1.        ],\n",
              "       [1.33333333, 1.25      ]])"
            ]
          },
          "metadata": {},
          "execution_count": 9
        }
      ]
    },
    {
      "cell_type": "markdown",
      "source": [
        "###Activity"
      ],
      "metadata": {
        "id": "mTMj0S7TKwad"
      }
    },
    {
      "cell_type": "code",
      "source": [
        "import numpy as np \n",
        "import matplotlib.pyplot as plt\n",
        "import scipy.linalg as la\n",
        "%matplotlib inline\n",
        "X = int(input(\"Number of rows:\"))\n",
        "Y = int(input(\"Number of columns:\")) \n",
        "print(\"Entries per row (separated by space): \")  \n",
        "entries = list(map(int, input().split()))\n",
        "\n",
        "num_entries = len(entries)\n",
        "area_dim = X*Y\n",
        "\n",
        "##validation if the number of entry is not inclined in the product of row and column.\n",
        "if (area_dim != num_entries):\n",
        "  print(\"Invalid input of entry. Your number of entries must be equal to the product of row and column.\")\n",
        "  raise ValueError(\"Error! Please enter the correct number of series in entry.\")\n",
        "\n",
        "matrix = np.array(entries).reshape(X, Y)\n",
        "def describe_mat(matrix):\n",
        "  is_square = True if matrix.shape[0] == matrix.shape[1] else False\n",
        "  print(f'\\nMatrix:\\n{matrix}\\n\\nShape:\\t{matrix.shape}\\nRank:\\t{matrix.ndim}\\nIs Square: {is_square}')\n",
        "describe_mat(matrix)\n",
        "is_empty = matrix == 0\n",
        "if False:\n",
        "  print('The matrix is empty')\n",
        "else:\n",
        "   print('The matrix is not empty')\n",
        "\n",
        "point=0\n",
        "for i in range(len(matrix)):\n",
        "    for j in range(len(matrix[0])):\n",
        "        if i == j and matrix[i][j] != 1:\n",
        "            point=1 \n",
        "            break\n",
        "        elif i!=j and matrix[i][j]!=0:\n",
        "            point=1\n",
        "            break\n",
        "if point==1:\n",
        "    print(\"The matrix is not an identity matrix.\")\n",
        "else:\n",
        "    print(\"The matrix is an identity matrix.\")\n",
        "\n",
        "arr = matrix\n",
        "is_all_zero = np.all((arr == 0))\n",
        "if is_all_zero:\n",
        "    print('The matrix only have 0')\n",
        "else:\n",
        "    print('The matrix has non-zero items')\n",
        "\n",
        "arr = matrix\n",
        "is_all_zero = np.all((arr == 1))\n",
        "if is_all_zero:\n",
        "    print('The matrix only have 1')\n",
        "else:\n",
        "    print('The matrix non-ones items')"
      ],
      "metadata": {
        "colab": {
          "base_uri": "https://localhost:8080/"
        },
        "id": "O3BS0wSBJlWj",
        "outputId": "670067f7-5442-4633-e60b-de279cac1398"
      },
      "execution_count": null,
      "outputs": [
        {
          "output_type": "stream",
          "name": "stdout",
          "text": [
            "Number of rows:2\n",
            "Number of columns:2\n",
            "Entries per row (separated by space): \n",
            "1 1 2 2\n",
            "\n",
            "Matrix:\n",
            "[[1 1]\n",
            " [2 2]]\n",
            "\n",
            "Shape:\t(2, 2)\n",
            "Rank:\t2\n",
            "Is Square: True\n",
            "The matrix is not empty\n",
            "The matrix is not an identity matrix.\n",
            "The matrix has non-zero items\n",
            "The matrix non-ones items\n"
          ]
        }
      ]
    },
    {
      "cell_type": "code",
      "source": [
        "import numpy as np \n",
        "import matplotlib.pyplot as plt\n",
        "import scipy.linalg as la\n",
        "%matplotlib inline\n",
        "X = int(input(\"Number of rows for 1st Matrix: \"))\n",
        "Y = int(input(\"Number of columns for 1st Matrix: \")) \n",
        "print(\"Entries per row (separated by space): \")  \n",
        "entries_1 = list(map(int, input().split()))\n",
        " \n",
        "num_entries_1 = len(entries_1)\n",
        "area_dim_1 = X*Y\n",
        "\n",
        "def describe_mat(matrix):\n",
        "  is_square = True if matrix.shape[0] == matrix.shape[1] else False\n",
        "  print(f'\\nMatrix:\\n{matrix}\\n\\nShape:\\t{matrix.shape}\\nRank:\\t{matrix.ndim}\\nIs Square: {is_square}\\n\\n')\n",
        "\n",
        "##validation if the number of entry is not inclined in the product of row and column.\n",
        "if (area_dim_1 != num_entries_1):\n",
        "  print(\"Invalid input of entry. Your number of entries must be equal to the product of row and column.\")\n",
        "  raise ValueError(\"Error! Please enter the correct number of series in entry.\")\n",
        "\n",
        "matrix_1 = np.array(entries_1).reshape(X, Y)\n",
        "\n",
        "describe_mat (matrix_1)\n",
        "###############################################################################################################\n",
        "A = int(input(\"Number of rows for 2nd Matrix: \"))\n",
        "B = int(input(\"Number of colums for 2nd Matrix: \"))\n",
        "print(\"Entries per row (separated by space): \")\n",
        "entries_2 = list(map(int, input().split()))\n",
        "\n",
        "num_entries_2 = len(entries_2)\n",
        "area_dim_2 = A*B\n",
        "\n",
        "##validation if the number of entry is not inclined in the product of row and column.\n",
        "if (area_dim_2 != num_entries_2):\n",
        "  print(\"Invalid input of entry. Your number of entries must be equal to the product of row and column.\")\n",
        "  raise ValueError(\"Error! Please enter the correct number of series in entry.\")\n",
        "\n",
        "matrix_2 = np.array(entries_2).reshape(A, B)\n",
        "describe_mat (matrix_2)\n",
        "#################################################################################################################\n",
        "dec_operation = input (\"Enter Your Desired Operation (+,-,*,/) : \")\n",
        "####################################ADDITION######################################################################\n",
        "if dec_operation == '+' or dec_operation.lower() == \"addition\": \n",
        "  Matrix_sum = matrix_1 + matrix_2\n",
        "  print(\"The Sum of the two Matrices are: \\n{}\".format(Matrix_sum))\n",
        "####################################SUBTRACTION###################################################################\n",
        "if dec_operation == '-' or dec_operation.lower() == \"subtraction\": \n",
        "  Matrix_diff = matrix_1 - matrix_2\n",
        "  print(\"The Difference of the two Matrices are: \\n{}\".format(Matrix_diff))\n",
        "####################################MULTIPLICATION################################################################\n",
        "if dec_operation == '*' or dec_operation.lower() == \"multiplication\": \n",
        "  Matrix_prod = matrix_1 * matrix_2\n",
        "  print(\"The Product of the two Matrices are: \\n{}\".format(Matrix_prod))\n",
        "#####################################DIVISION#####################################################################\n",
        "if dec_operation == '/' or dec_operation.lower() == \"division\": \n",
        "  Matrix_quo = matrix_1 / matrix_2\n",
        "  print(\"The Quotient of the two Matrices are: \\n{}\".format(Matrix_quo))\n",
        "##################################################################################################################\n",
        "\n"
      ],
      "metadata": {
        "colab": {
          "base_uri": "https://localhost:8080/"
        },
        "id": "gJEAKkk9Zv51",
        "outputId": "e789303a-6288-4815-dd60-bf1a687d9df5"
      },
      "execution_count": null,
      "outputs": [
        {
          "output_type": "stream",
          "name": "stdout",
          "text": [
            "Number of rows for 1st Matrix: 2\n",
            "Number of columns for 1st Matrix: 2\n",
            "Entries per row (separated by space): \n",
            "1 1 1 1\n",
            "\n",
            "Matrix:\n",
            "[[1 1]\n",
            " [1 1]]\n",
            "\n",
            "Shape:\t(2, 2)\n",
            "Rank:\t2\n",
            "Is Square: True\n",
            "\n",
            "\n",
            "Number of rows for 2nd Matrix: 2\n",
            "Number of colums for 2nd Matrix: 2\n",
            "Entries per row (separated by space): \n",
            "1 1 1 1\n",
            "\n",
            "Matrix:\n",
            "[[1 1]\n",
            " [1 1]]\n",
            "\n",
            "Shape:\t(2, 2)\n",
            "Rank:\t2\n",
            "Is Square: True\n",
            "\n",
            "\n",
            "Enter Your Desired Operation (+,-,*,/) : a\n",
            "Invalid Operation\n"
          ]
        }
      ]
    }
  ]
}